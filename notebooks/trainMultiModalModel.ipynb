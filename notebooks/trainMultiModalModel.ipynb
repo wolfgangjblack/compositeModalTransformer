{
 "cells": [
  {
   "cell_type": "code",
   "execution_count": 1,
   "metadata": {},
   "outputs": [
    {
     "name": "stderr",
     "output_type": "stream",
     "text": [
      "c:\\Users\\wolfg\\OneDrive\\Documents\\CivitAI\\Project Work\\research\\multimodalCheck\\venv\\Lib\\site-packages\\tqdm\\auto.py:21: TqdmWarning: IProgress not found. Please update jupyter and ipywidgets. See https://ipywidgets.readthedocs.io/en/stable/user_install.html\n",
      "  from .autonotebook import tqdm as notebook_tqdm\n"
     ]
    }
   ],
   "source": [
    "import os\n",
    "import re\n",
    "import json\n",
    "import torch\n",
    "from torch import nn\n",
    "from PIL import Image\n",
    "from ultralytics import YOLO\n",
    "from torchvision import models, transforms\n",
    "from torch.utils.data import Dataset, DataLoader\n",
    "from safetensors.torch import save_file, load_file\n",
    "from transformers.tokenization_utils_base import BatchEncoding\n",
    "from transformers import PreTrainedModel, PretrainedConfig, AutoModelForSequenceClassification, AutoTokenizer, ViTForImageClassification, ViTImageProcessor, BatchEncoding\n"
   ]
  },
  {
   "cell_type": "markdown",
   "metadata": {},
   "source": [
    "## Config\n",
    "Updated config for new model structure"
   ]
  },
  {
   "cell_type": "code",
   "execution_count": 2,
   "metadata": {},
   "outputs": [],
   "source": [
    "class MultimodalConfig(PretrainedConfig):\n",
    "    model_type = \"multimodal\"\n",
    "\n",
    "    def __init__(self,\n",
    "                 models=None,\n",
    "                 **kwargs):\n",
    "        super().__init__(**kwargs)\n",
    "        self.models = models if models is not None else {}\n",
    "        self.image_models = [i for i in self.models.keys() if 'prompt' not in i]\n",
    "\n",
    "        self.resnet_model_paths = {i:v for i,v in self.models.items() if 'resnet' in i.lower()}\n",
    "        self.vit_model_paths = {i:v for i,v in self.models.items() if 'vit' in i}\n",
    "        self.yolo_model_paths = {i:v for i,v in self.models.items() if 'yolo' in i}\n",
    "\n",
    "        self.text_models = [i for i in self.models.keys() if 'prompt' in i]\n",
    "        self.nlp_transformers_model_paths = {i:v for i,v in self.models.items() if 'prompt' in i}\n",
    "        \n",
    "        self.class_names = [\"PG\", \"PG13\", \"R\", \"X\", \"XXX\"]\n",
    "        self.label2id = {label: i for i, label in enumerate(self.class_names)}\n",
    "        self.id2label = {i: label for label, i in self.label2id.items()}\n"
   ]
  },
  {
   "cell_type": "code",
   "execution_count": 3,
   "metadata": {},
   "outputs": [
    {
     "name": "stdout",
     "output_type": "stream",
     "text": [
      "{'baseresNet18': './models/baseresNet18', 'baseresNet50': './models/baseresNet50', 'june_yolo_cls': './models/june_yolo_cls', 'promptBert': './models/promptBert', 'promptRoberta': './models/promptRoberta', 'promptTagBert': './models/promptTagBert', 'resNet18CV': './models/resNet18CV', 'resNet50CV': './models/resNet50CV', 'vitRater': './models/vitRater'}\n"
     ]
    }
   ],
   "source": [
    "model_paths = {i: os.path.join('./models/', i) for i in os.listdir('models/') if 'multimodal' not in i and 'yoloRater' not in i}\n",
    "print(model_paths)"
   ]
  },
  {
   "cell_type": "code",
   "execution_count": 4,
   "metadata": {},
   "outputs": [],
   "source": [
    "config = MultimodalConfig(models=model_paths)"
   ]
  },
  {
   "cell_type": "markdown",
   "metadata": {},
   "source": [
    "## Dataset\n",
    "\n",
    "fixed model paths and dataset to work with dataloader and hf trainer api"
   ]
  },
  {
   "cell_type": "code",
   "execution_count": 5,
   "metadata": {},
   "outputs": [],
   "source": [
    "class CustomImageTextDataset(Dataset):\n",
    "    def __init__(self, data_dir, target_transform=None):\n",
    "        self.data_dir = data_dir        \n",
    "        self.files = self.get_files()\n",
    "        self.labels = self.get_files(True)\n",
    "        self.target_transform = target_transform\n",
    "        \n",
    "    def get_files(self, labels = False):\n",
    "        files = []\n",
    "        for i in os.listdir(self.data_dir):\n",
    "            if labels:\n",
    "                imgs = [i for j in os.listdir(os.path.join(self.data_dir,i)) if j.endswith(\".jpg\")]\n",
    "            else:\n",
    "                imgs = [os.path.join(self.data_dir, i, j.split('.')[0]) for j in os.listdir(os.path.join(self.data_dir,i)) if j.endswith(\".jpg\")]\n",
    "            files.extend(imgs)\n",
    "        return files\n",
    "    \n",
    "    def __len__(self):\n",
    "        return len(self.files)\n",
    "    \n",
    "    def __getitem__(self, idx):\n",
    "        img_path = self.files[idx] + '.jpg'\n",
    "        txt_path = self.files[idx] + '.txt'\n",
    "        tag_path = self.files[idx] + '_tags.txt'\n",
    "        # image = Image.open(img_path)\n",
    "        try:\n",
    "            text = open(txt_path, 'r').read()\n",
    "        except:\n",
    "            text = ''\n",
    "        try:\n",
    "            tags = open(tag_path, 'r').read()\n",
    "        except:\n",
    "            tags = None\n",
    "        label = self.labels[idx]\n",
    "        if self.target_transform:\n",
    "            label = self.target_transform[label]\n",
    "            if isinstance(label, int):\n",
    "                label = torch.tensor(label)\n",
    "        return img_path, text, tags, label\n",
    "    \n",
    "    def __repr__(self):\n",
    "        string = f\"CustomImageTextDataset(num_samples={len(self.files)}, data_dir='{self.data_dir}')\\n\"\n",
    "        return string + f\"Unique Labels: {list(set(self.labels))} for phase: {os.path.basename(self.data_dir)}\"\n",
    "    "
   ]
  },
  {
   "cell_type": "code",
   "execution_count": 6,
   "metadata": {},
   "outputs": [],
   "source": [
    "datadir = \"./data/datasets/mayWithTags/train\"\n",
    "validir = \"./data/datasets/mayWithTags/val\""
   ]
  },
  {
   "cell_type": "code",
   "execution_count": 7,
   "metadata": {},
   "outputs": [],
   "source": [
    "training_data = CustomImageTextDataset(datadir, target_transform=config.label2id)\n",
    "validation_data = CustomImageTextDataset(datadir, target_transform=config.label2id)"
   ]
  },
  {
   "cell_type": "code",
   "execution_count": 8,
   "metadata": {},
   "outputs": [],
   "source": [
    "# training_data[1000]"
   ]
  },
  {
   "cell_type": "markdown",
   "metadata": {},
   "source": [
    "## Processor\n",
    "\n",
    "created processor to simplify dataset AND model code. \n",
    "\n",
    "Processor now works like hf processors in that it takes an image path or text from a dataset and, depending on the models in the config/processor, we can process the modalities and serve them to the proper models. "
   ]
  },
  {
   "cell_type": "code",
   "execution_count": 9,
   "metadata": {},
   "outputs": [],
   "source": [
    "class MultimodalProcessor:\n",
    "    def __init__(self, models = None):\n",
    "        self.models = models if models is not None else {}\n",
    "        self.image_models = [i for i in self.models.keys() if 'prompt' not in i]\n",
    "        self.text_models = [i for i in self.models.keys() if 'prompt' in i]\n",
    "        self.image_processors = self.load_image_processors()\n",
    "        self.text_processors = self.load_text_processors()\n",
    "    \n",
    "    @staticmethod\n",
    "    def clean_text(text: str) -> str:\n",
    "        text = str(text)\n",
    "        cleaned_text = re.sub(r\"[():<>[\\]]\", \" \", text)\n",
    "        cleaned_text = cleaned_text.replace(\"\\n\", \" \")\n",
    "        cleaned_text = re.sub(r\"\\s+\", \" \", cleaned_text)\n",
    "        cleaned_text = re.sub(r\"\\s*,\\s*\", \", \", cleaned_text)\n",
    "        return cleaned_text.strip()         \n",
    "    \n",
    "    def load_image_processors(self):\n",
    "        \"\"\"Use either transforms native to the model architecture or the vit image processor\n",
    "        NOTE: if you change the transforms an image undergoes during training, you should change them here as well\n",
    "        \"\"\"\n",
    "        image_processors = {}\n",
    "        for model_name in self.image_models:\n",
    "            if 'vit' in model_name.lower():\n",
    "                try:\n",
    "                    processor = ViTImageProcessor.from_pretrained(self.models[model_name])\n",
    "                    image_processors[model_name] = processor\n",
    "                except Exception as e:\n",
    "                    print(f\"Error loading {model_name}: {e}\")\n",
    "            elif 'resnet' in model_name.lower() and 'resnet' not in image_processors.keys():\n",
    "                try:\n",
    "                    processor = transforms.Compose([\n",
    "                        transforms.Resize(256),\n",
    "                        transforms.CenterCrop(224),\n",
    "                        transforms.ToTensor(),\n",
    "                        transforms.Normalize(mean=[0.485, 0.456, 0.406], std=[0.229, 0.224, 0.225]),\n",
    "                    ])\n",
    "                    image_processors['resnet'] = processor\n",
    "                except Exception as e:\n",
    "                    print(f\"Error loading {model_name}: {e}\")\n",
    "            elif 'resnet' in model_name.lower() and 'resnet' in image_processors.keys():\n",
    "                continue\n",
    "            elif 'yolo' and 'cls' in model_name.lower():\n",
    "                image_processors[model_name] = YOLO(os.path.join(self.models[model_name], 'best_model_params.pt')).transforms\n",
    "            else:\n",
    "                #We expect DET Yolos to be None, as they just\n",
    "                #take in the PIL.Image and return the output\n",
    "                image_processors[model_name] = None\n",
    "        return image_processors    \n",
    "\n",
    "    def load_text_processors(self):\n",
    "        text_processors = {}\n",
    "        for model_name in self.text_models:\n",
    "            try:\n",
    "                tokenizer = AutoTokenizer.from_pretrained(self.models[model_name])\n",
    "                text_processors[model_name] = tokenizer\n",
    "            except Exception as e:\n",
    "                print(f\"Error loading {model_name}: {e}\")\n",
    "        return text_processors\n",
    "    \n",
    "    def __call__(self, img_path, text, tags, label):\n",
    "        inputs = {}\n",
    "        img = Image.open(img_path)\n",
    "        \n",
    "        for model in self.image_models:\n",
    "            if 'vit' in model.lower():\n",
    "                inputs[model] = self.image_processors[model](img,\n",
    "                        return_tensors=\"pt\")['pixel_values']\n",
    "        \n",
    "            elif 'resnet' in model.lower():\n",
    "                inputs[model] = self.image_processors['resnet'](img).unsqueeze(0)\n",
    "        \n",
    "            elif 'yolo' and 'cls' in model.lower():\n",
    "                inputs[model] = self.image_processors[model](img)\n",
    "            else:\n",
    "                inputs[model] = img_path\n",
    "        \n",
    "        for model in self.text_models:\n",
    "            if 'tag' in model.lower() and tags:\n",
    "                text_in = ' '.join([text, tags])\n",
    "            else:\n",
    "                text_in = text\n",
    "            \n",
    "            text_in = self.clean_text(text_in)\n",
    "            inputs[model] = self.text_processors[model](text_in, return_tensors=\"pt\", truncation=True, padding='max_length')\n",
    "        \n",
    "        inputs['label'] = label\n",
    "        return inputs"
   ]
  },
  {
   "cell_type": "code",
   "execution_count": 10,
   "metadata": {},
   "outputs": [],
   "source": [
    "processor = MultimodalProcessor(models = model_paths)"
   ]
  },
  {
   "cell_type": "code",
   "execution_count": 11,
   "metadata": {},
   "outputs": [
    {
     "data": {
      "text/plain": [
       "{'baseresNet18': tensor([[[[ 1.9235,  1.9578,  1.6667,  ..., -1.8268, -1.8097, -1.8097],\n",
       "           [ 2.1119,  2.1975,  2.1633,  ..., -1.8097, -1.8097, -1.8097],\n",
       "           [ 2.1804,  2.1290,  1.9749,  ..., -1.8268, -1.8268, -1.8268],\n",
       "           ...,\n",
       "           [-1.0048, -0.9877, -0.9705,  ..., -1.4500, -1.3302, -1.2274],\n",
       "           [-1.0562, -1.0562, -1.0733,  ..., -1.6898, -1.6727, -1.6042],\n",
       "           [-1.1932, -1.1760, -1.2103,  ..., -1.6898, -1.7069, -1.7240]],\n",
       " \n",
       "          [[ 1.2556,  1.3431,  1.0630,  ..., -1.9132, -1.8957, -1.8957],\n",
       "           [ 1.5007,  1.6408,  1.5707,  ..., -1.8957, -1.8957, -1.8957],\n",
       "           [ 1.6408,  1.6057,  1.4832,  ..., -1.9132, -1.9132, -1.9132],\n",
       "           ...,\n",
       "           [-1.2479, -1.2304, -1.1954,  ..., -1.6331, -1.5105, -1.4055],\n",
       "           [-1.3004, -1.2829, -1.2654,  ..., -1.8256, -1.8081, -1.7381],\n",
       "           [-1.4230, -1.4055, -1.3880,  ..., -1.7731, -1.7906, -1.8081]],\n",
       " \n",
       "          [[ 0.6531,  0.7228,  0.4265,  ..., -1.7173, -1.6999, -1.6999],\n",
       "           [ 0.7402,  0.8971,  0.8797,  ..., -1.6999, -1.6999, -1.6999],\n",
       "           [ 0.8099,  0.8274,  0.6531,  ..., -1.7173, -1.7173, -1.7173],\n",
       "           ...,\n",
       "           [-1.2119, -1.1944, -1.1596,  ..., -1.6302, -1.5081, -1.4036],\n",
       "           [-1.2119, -1.2119, -1.2467,  ..., -1.7696, -1.7696, -1.6824],\n",
       "           [-1.3164, -1.3164, -1.3687,  ..., -1.6650, -1.6999, -1.7173]]]]),\n",
       " 'baseresNet50': tensor([[[[ 1.9235,  1.9578,  1.6667,  ..., -1.8268, -1.8097, -1.8097],\n",
       "           [ 2.1119,  2.1975,  2.1633,  ..., -1.8097, -1.8097, -1.8097],\n",
       "           [ 2.1804,  2.1290,  1.9749,  ..., -1.8268, -1.8268, -1.8268],\n",
       "           ...,\n",
       "           [-1.0048, -0.9877, -0.9705,  ..., -1.4500, -1.3302, -1.2274],\n",
       "           [-1.0562, -1.0562, -1.0733,  ..., -1.6898, -1.6727, -1.6042],\n",
       "           [-1.1932, -1.1760, -1.2103,  ..., -1.6898, -1.7069, -1.7240]],\n",
       " \n",
       "          [[ 1.2556,  1.3431,  1.0630,  ..., -1.9132, -1.8957, -1.8957],\n",
       "           [ 1.5007,  1.6408,  1.5707,  ..., -1.8957, -1.8957, -1.8957],\n",
       "           [ 1.6408,  1.6057,  1.4832,  ..., -1.9132, -1.9132, -1.9132],\n",
       "           ...,\n",
       "           [-1.2479, -1.2304, -1.1954,  ..., -1.6331, -1.5105, -1.4055],\n",
       "           [-1.3004, -1.2829, -1.2654,  ..., -1.8256, -1.8081, -1.7381],\n",
       "           [-1.4230, -1.4055, -1.3880,  ..., -1.7731, -1.7906, -1.8081]],\n",
       " \n",
       "          [[ 0.6531,  0.7228,  0.4265,  ..., -1.7173, -1.6999, -1.6999],\n",
       "           [ 0.7402,  0.8971,  0.8797,  ..., -1.6999, -1.6999, -1.6999],\n",
       "           [ 0.8099,  0.8274,  0.6531,  ..., -1.7173, -1.7173, -1.7173],\n",
       "           ...,\n",
       "           [-1.2119, -1.1944, -1.1596,  ..., -1.6302, -1.5081, -1.4036],\n",
       "           [-1.2119, -1.2119, -1.2467,  ..., -1.7696, -1.7696, -1.6824],\n",
       "           [-1.3164, -1.3164, -1.3687,  ..., -1.6650, -1.6999, -1.7173]]]]),\n",
       " 'june_yolo_cls': tensor([[[0.9176, 0.8549, 0.7176,  ..., 0.0157, 0.0157, 0.0118],\n",
       "          [0.8627, 0.8784, 0.8745,  ..., 0.0157, 0.0157, 0.0118],\n",
       "          [0.8941, 0.8863, 0.8784,  ..., 0.0157, 0.0157, 0.0118],\n",
       "          ...,\n",
       "          [0.1255, 0.1255, 0.1294,  ..., 0.0196, 0.0157, 0.0118],\n",
       "          [0.1451, 0.1451, 0.1490,  ..., 0.0196, 0.0157, 0.0118],\n",
       "          [0.1373, 0.1373, 0.1412,  ..., 0.0157, 0.0118, 0.0039]],\n",
       " \n",
       "         [[0.6392, 0.5922, 0.4824,  ..., 0.0118, 0.0118, 0.0039],\n",
       "          [0.5804, 0.6118, 0.6314,  ..., 0.0118, 0.0118, 0.0039],\n",
       "          [0.6039, 0.6118, 0.6275,  ..., 0.0118, 0.0118, 0.0039],\n",
       "          ...,\n",
       "          [0.0667, 0.0706, 0.0745,  ..., 0.0118, 0.0078, 0.0039],\n",
       "          [0.0784, 0.0824, 0.0863,  ..., 0.0118, 0.0078, 0.0039],\n",
       "          [0.0784, 0.0824, 0.0863,  ..., 0.0078, 0.0039, 0.0039]],\n",
       " \n",
       "         [[0.3647, 0.3294, 0.2431,  ..., 0.0039, 0.0039, 0.0078],\n",
       "          [0.3059, 0.3490, 0.3922,  ..., 0.0039, 0.0039, 0.0078],\n",
       "          [0.3373, 0.3529, 0.3843,  ..., 0.0039, 0.0039, 0.0078],\n",
       "          ...,\n",
       "          [0.0353, 0.0392, 0.0431,  ..., 0.0157, 0.0118, 0.0078],\n",
       "          [0.0431, 0.0431, 0.0471,  ..., 0.0157, 0.0118, 0.0078],\n",
       "          [0.0353, 0.0392, 0.0431,  ..., 0.0118, 0.0078, 0.0039]]]),\n",
       " 'resNet18CV': tensor([[[[ 1.9235,  1.9578,  1.6667,  ..., -1.8268, -1.8097, -1.8097],\n",
       "           [ 2.1119,  2.1975,  2.1633,  ..., -1.8097, -1.8097, -1.8097],\n",
       "           [ 2.1804,  2.1290,  1.9749,  ..., -1.8268, -1.8268, -1.8268],\n",
       "           ...,\n",
       "           [-1.0048, -0.9877, -0.9705,  ..., -1.4500, -1.3302, -1.2274],\n",
       "           [-1.0562, -1.0562, -1.0733,  ..., -1.6898, -1.6727, -1.6042],\n",
       "           [-1.1932, -1.1760, -1.2103,  ..., -1.6898, -1.7069, -1.7240]],\n",
       " \n",
       "          [[ 1.2556,  1.3431,  1.0630,  ..., -1.9132, -1.8957, -1.8957],\n",
       "           [ 1.5007,  1.6408,  1.5707,  ..., -1.8957, -1.8957, -1.8957],\n",
       "           [ 1.6408,  1.6057,  1.4832,  ..., -1.9132, -1.9132, -1.9132],\n",
       "           ...,\n",
       "           [-1.2479, -1.2304, -1.1954,  ..., -1.6331, -1.5105, -1.4055],\n",
       "           [-1.3004, -1.2829, -1.2654,  ..., -1.8256, -1.8081, -1.7381],\n",
       "           [-1.4230, -1.4055, -1.3880,  ..., -1.7731, -1.7906, -1.8081]],\n",
       " \n",
       "          [[ 0.6531,  0.7228,  0.4265,  ..., -1.7173, -1.6999, -1.6999],\n",
       "           [ 0.7402,  0.8971,  0.8797,  ..., -1.6999, -1.6999, -1.6999],\n",
       "           [ 0.8099,  0.8274,  0.6531,  ..., -1.7173, -1.7173, -1.7173],\n",
       "           ...,\n",
       "           [-1.2119, -1.1944, -1.1596,  ..., -1.6302, -1.5081, -1.4036],\n",
       "           [-1.2119, -1.2119, -1.2467,  ..., -1.7696, -1.7696, -1.6824],\n",
       "           [-1.3164, -1.3164, -1.3687,  ..., -1.6650, -1.6999, -1.7173]]]]),\n",
       " 'resNet50CV': tensor([[[[ 1.9235,  1.9578,  1.6667,  ..., -1.8268, -1.8097, -1.8097],\n",
       "           [ 2.1119,  2.1975,  2.1633,  ..., -1.8097, -1.8097, -1.8097],\n",
       "           [ 2.1804,  2.1290,  1.9749,  ..., -1.8268, -1.8268, -1.8268],\n",
       "           ...,\n",
       "           [-1.0048, -0.9877, -0.9705,  ..., -1.4500, -1.3302, -1.2274],\n",
       "           [-1.0562, -1.0562, -1.0733,  ..., -1.6898, -1.6727, -1.6042],\n",
       "           [-1.1932, -1.1760, -1.2103,  ..., -1.6898, -1.7069, -1.7240]],\n",
       " \n",
       "          [[ 1.2556,  1.3431,  1.0630,  ..., -1.9132, -1.8957, -1.8957],\n",
       "           [ 1.5007,  1.6408,  1.5707,  ..., -1.8957, -1.8957, -1.8957],\n",
       "           [ 1.6408,  1.6057,  1.4832,  ..., -1.9132, -1.9132, -1.9132],\n",
       "           ...,\n",
       "           [-1.2479, -1.2304, -1.1954,  ..., -1.6331, -1.5105, -1.4055],\n",
       "           [-1.3004, -1.2829, -1.2654,  ..., -1.8256, -1.8081, -1.7381],\n",
       "           [-1.4230, -1.4055, -1.3880,  ..., -1.7731, -1.7906, -1.8081]],\n",
       " \n",
       "          [[ 0.6531,  0.7228,  0.4265,  ..., -1.7173, -1.6999, -1.6999],\n",
       "           [ 0.7402,  0.8971,  0.8797,  ..., -1.6999, -1.6999, -1.6999],\n",
       "           [ 0.8099,  0.8274,  0.6531,  ..., -1.7173, -1.7173, -1.7173],\n",
       "           ...,\n",
       "           [-1.2119, -1.1944, -1.1596,  ..., -1.6302, -1.5081, -1.4036],\n",
       "           [-1.2119, -1.2119, -1.2467,  ..., -1.7696, -1.7696, -1.6824],\n",
       "           [-1.3164, -1.3164, -1.3687,  ..., -1.6650, -1.6999, -1.7173]]]]),\n",
       " 'vitRater': tensor([[[[ 0.8353,  0.7098,  0.4353,  ..., -0.9686, -0.9686, -0.9765],\n",
       "           [ 0.7255,  0.7569,  0.7490,  ..., -0.9686, -0.9686, -0.9765],\n",
       "           [ 0.7882,  0.7725,  0.7569,  ..., -0.9686, -0.9686, -0.9765],\n",
       "           ...,\n",
       "           [-0.7490, -0.7490, -0.7412,  ..., -0.9608, -0.9686, -0.9765],\n",
       "           [-0.7098, -0.7098, -0.7020,  ..., -0.9608, -0.9686, -0.9765],\n",
       "           [-0.7255, -0.7255, -0.7176,  ..., -0.9686, -0.9765, -0.9922]],\n",
       " \n",
       "          [[ 0.2784,  0.1843, -0.0353,  ..., -0.9765, -0.9765, -0.9922],\n",
       "           [ 0.1608,  0.2235,  0.2627,  ..., -0.9765, -0.9765, -0.9922],\n",
       "           [ 0.2078,  0.2235,  0.2549,  ..., -0.9765, -0.9765, -0.9922],\n",
       "           ...,\n",
       "           [-0.8667, -0.8588, -0.8510,  ..., -0.9765, -0.9843, -0.9922],\n",
       "           [-0.8431, -0.8353, -0.8275,  ..., -0.9765, -0.9843, -0.9922],\n",
       "           [-0.8431, -0.8353, -0.8275,  ..., -0.9843, -0.9922, -0.9922]],\n",
       " \n",
       "          [[-0.2706, -0.3412, -0.5137,  ..., -0.9922, -0.9922, -0.9843],\n",
       "           [-0.3882, -0.3020, -0.2157,  ..., -0.9922, -0.9922, -0.9843],\n",
       "           [-0.3255, -0.2941, -0.2314,  ..., -0.9922, -0.9922, -0.9843],\n",
       "           ...,\n",
       "           [-0.9294, -0.9216, -0.9137,  ..., -0.9686, -0.9765, -0.9843],\n",
       "           [-0.9137, -0.9137, -0.9059,  ..., -0.9686, -0.9765, -0.9843],\n",
       "           [-0.9294, -0.9216, -0.9137,  ..., -0.9765, -0.9843, -0.9922]]]]),\n",
       " 'promptBert': {'input_ids': tensor([[  101, 16216, 24032,  1010,  6851,  2227,  1010,  6302, 22852,  2964,  1010,  7916,  1010, 12922, 14236,   102,     0,     0,     0,     0,     0,     0,     0,     0,     0,     0,     0,     0,     0,     0,     0,     0,     0,     0,     0,     0,     0,     0,     0,     0,     0,     0,     0,     0,\n",
       "              0,     0,     0,     0,     0,     0,     0,     0,     0,     0,     0,     0,     0,     0,     0,     0,     0,     0,     0,     0,     0,     0,     0,     0,     0,     0,     0,     0,     0,     0,     0,     0,     0,     0,     0,     0,     0,     0,     0,     0,     0,     0,     0,     0,\n",
       "              0,     0,     0,     0,     0,     0,     0,     0,     0,     0,     0,     0,     0,     0,     0,     0,     0,     0,     0,     0,     0,     0,     0,     0,     0,     0,     0,     0,     0,     0,     0,     0,     0,     0,     0,     0,     0,     0,     0,     0,     0,     0,     0,     0,\n",
       "              0,     0,     0,     0,     0,     0,     0,     0,     0,     0,     0,     0,     0,     0,     0,     0,     0,     0,     0,     0,     0,     0,     0,     0,     0,     0,     0,     0,     0,     0,     0,     0,     0,     0,     0,     0,     0,     0,     0,     0,     0,     0,     0,     0,\n",
       "              0,     0,     0,     0,     0,     0,     0,     0,     0,     0,     0,     0,     0,     0,     0,     0,     0,     0,     0,     0,     0,     0,     0,     0,     0,     0,     0,     0,     0,     0,     0,     0,     0,     0,     0,     0,     0,     0,     0,     0,     0,     0,     0,     0,\n",
       "              0,     0,     0,     0,     0,     0,     0,     0,     0,     0,     0,     0,     0,     0,     0,     0,     0,     0,     0,     0,     0,     0,     0,     0,     0,     0,     0,     0,     0,     0,     0,     0,     0,     0,     0,     0,     0,     0,     0,     0,     0,     0,     0,     0,\n",
       "              0,     0,     0,     0,     0,     0,     0,     0,     0,     0,     0,     0,     0,     0,     0,     0,     0,     0,     0,     0,     0,     0,     0,     0,     0,     0,     0,     0,     0,     0,     0,     0,     0,     0,     0,     0,     0,     0,     0,     0,     0,     0,     0,     0,\n",
       "              0,     0,     0,     0,     0,     0,     0,     0,     0,     0,     0,     0,     0,     0,     0,     0,     0,     0,     0,     0,     0,     0,     0,     0,     0,     0,     0,     0,     0,     0,     0,     0,     0,     0,     0,     0,     0,     0,     0,     0,     0,     0,     0,     0,\n",
       "              0,     0,     0,     0,     0,     0,     0,     0,     0,     0,     0,     0,     0,     0,     0,     0,     0,     0,     0,     0,     0,     0,     0,     0,     0,     0,     0,     0,     0,     0,     0,     0,     0,     0,     0,     0,     0,     0,     0,     0,     0,     0,     0,     0,\n",
       "              0,     0,     0,     0,     0,     0,     0,     0,     0,     0,     0,     0,     0,     0,     0,     0,     0,     0,     0,     0,     0,     0,     0,     0,     0,     0,     0,     0,     0,     0,     0,     0,     0,     0,     0,     0,     0,     0,     0,     0,     0,     0,     0,     0,\n",
       "              0,     0,     0,     0,     0,     0,     0,     0,     0,     0,     0,     0,     0,     0,     0,     0,     0,     0,     0,     0,     0,     0,     0,     0,     0,     0,     0,     0,     0,     0,     0,     0,     0,     0,     0,     0,     0,     0,     0,     0,     0,     0,     0,     0,\n",
       "              0,     0,     0,     0,     0,     0,     0,     0,     0,     0,     0,     0,     0,     0,     0,     0,     0,     0,     0,     0,     0,     0,     0,     0,     0,     0,     0,     0]]), 'attention_mask': tensor([[1, 1, 1, 1, 1, 1, 1, 1, 1, 1, 1, 1, 1, 1, 1, 1, 0, 0, 0, 0, 0, 0, 0, 0, 0, 0, 0, 0, 0, 0, 0, 0, 0, 0, 0, 0, 0, 0, 0, 0, 0, 0, 0, 0, 0, 0, 0, 0, 0, 0, 0, 0, 0, 0, 0, 0, 0, 0, 0, 0, 0, 0, 0, 0, 0, 0, 0, 0, 0, 0, 0, 0, 0, 0, 0, 0, 0, 0, 0, 0, 0, 0, 0, 0, 0, 0, 0, 0, 0, 0, 0, 0, 0, 0, 0, 0, 0, 0, 0, 0, 0, 0, 0, 0,\n",
       "          0, 0, 0, 0, 0, 0, 0, 0, 0, 0, 0, 0, 0, 0, 0, 0, 0, 0, 0, 0, 0, 0, 0, 0, 0, 0, 0, 0, 0, 0, 0, 0, 0, 0, 0, 0, 0, 0, 0, 0, 0, 0, 0, 0, 0, 0, 0, 0, 0, 0, 0, 0, 0, 0, 0, 0, 0, 0, 0, 0, 0, 0, 0, 0, 0, 0, 0, 0, 0, 0, 0, 0, 0, 0, 0, 0, 0, 0, 0, 0, 0, 0, 0, 0, 0, 0, 0, 0, 0, 0, 0, 0, 0, 0, 0, 0, 0, 0, 0, 0, 0, 0, 0, 0,\n",
       "          0, 0, 0, 0, 0, 0, 0, 0, 0, 0, 0, 0, 0, 0, 0, 0, 0, 0, 0, 0, 0, 0, 0, 0, 0, 0, 0, 0, 0, 0, 0, 0, 0, 0, 0, 0, 0, 0, 0, 0, 0, 0, 0, 0, 0, 0, 0, 0, 0, 0, 0, 0, 0, 0, 0, 0, 0, 0, 0, 0, 0, 0, 0, 0, 0, 0, 0, 0, 0, 0, 0, 0, 0, 0, 0, 0, 0, 0, 0, 0, 0, 0, 0, 0, 0, 0, 0, 0, 0, 0, 0, 0, 0, 0, 0, 0, 0, 0, 0, 0, 0, 0, 0, 0,\n",
       "          0, 0, 0, 0, 0, 0, 0, 0, 0, 0, 0, 0, 0, 0, 0, 0, 0, 0, 0, 0, 0, 0, 0, 0, 0, 0, 0, 0, 0, 0, 0, 0, 0, 0, 0, 0, 0, 0, 0, 0, 0, 0, 0, 0, 0, 0, 0, 0, 0, 0, 0, 0, 0, 0, 0, 0, 0, 0, 0, 0, 0, 0, 0, 0, 0, 0, 0, 0, 0, 0, 0, 0, 0, 0, 0, 0, 0, 0, 0, 0, 0, 0, 0, 0, 0, 0, 0, 0, 0, 0, 0, 0, 0, 0, 0, 0, 0, 0, 0, 0, 0, 0, 0, 0,\n",
       "          0, 0, 0, 0, 0, 0, 0, 0, 0, 0, 0, 0, 0, 0, 0, 0, 0, 0, 0, 0, 0, 0, 0, 0, 0, 0, 0, 0, 0, 0, 0, 0, 0, 0, 0, 0, 0, 0, 0, 0, 0, 0, 0, 0, 0, 0, 0, 0, 0, 0, 0, 0, 0, 0, 0, 0, 0, 0, 0, 0, 0, 0, 0, 0, 0, 0, 0, 0, 0, 0, 0, 0, 0, 0, 0, 0, 0, 0, 0, 0, 0, 0, 0, 0, 0, 0, 0, 0, 0, 0, 0, 0, 0, 0, 0, 0]])},\n",
       " 'promptRoberta': {'input_ids': tensor([[    0,  1899,  9268,     6,  4271,   652,     6, 17190, 43434,  1809,     6, 13350,     6, 22990, 20745,     2,     1,     1,     1,     1,     1,     1,     1,     1,     1,     1,     1,     1,     1,     1,     1,     1,     1,     1,     1,     1,     1,     1,     1,     1,     1,     1,     1,     1,\n",
       "              1,     1,     1,     1,     1,     1,     1,     1,     1,     1,     1,     1,     1,     1,     1,     1,     1,     1,     1,     1,     1,     1,     1,     1,     1,     1,     1,     1,     1,     1,     1,     1,     1,     1,     1,     1,     1,     1,     1,     1,     1,     1,     1,     1,\n",
       "              1,     1,     1,     1,     1,     1,     1,     1,     1,     1,     1,     1,     1,     1,     1,     1,     1,     1,     1,     1,     1,     1,     1,     1,     1,     1,     1,     1,     1,     1,     1,     1,     1,     1,     1,     1,     1,     1,     1,     1,     1,     1,     1,     1,\n",
       "              1,     1,     1,     1,     1,     1,     1,     1,     1,     1,     1,     1,     1,     1,     1,     1,     1,     1,     1,     1,     1,     1,     1,     1,     1,     1,     1,     1,     1,     1,     1,     1,     1,     1,     1,     1,     1,     1,     1,     1,     1,     1,     1,     1,\n",
       "              1,     1,     1,     1,     1,     1,     1,     1,     1,     1,     1,     1,     1,     1,     1,     1,     1,     1,     1,     1,     1,     1,     1,     1,     1,     1,     1,     1,     1,     1,     1,     1,     1,     1,     1,     1,     1,     1,     1,     1,     1,     1,     1,     1,\n",
       "              1,     1,     1,     1,     1,     1,     1,     1,     1,     1,     1,     1,     1,     1,     1,     1,     1,     1,     1,     1,     1,     1,     1,     1,     1,     1,     1,     1,     1,     1,     1,     1,     1,     1,     1,     1,     1,     1,     1,     1,     1,     1,     1,     1,\n",
       "              1,     1,     1,     1,     1,     1,     1,     1,     1,     1,     1,     1,     1,     1,     1,     1,     1,     1,     1,     1,     1,     1,     1,     1,     1,     1,     1,     1,     1,     1,     1,     1,     1,     1,     1,     1,     1,     1,     1,     1,     1,     1,     1,     1,\n",
       "              1,     1,     1,     1,     1,     1,     1,     1,     1,     1,     1,     1,     1,     1,     1,     1,     1,     1,     1,     1,     1,     1,     1,     1,     1,     1,     1,     1,     1,     1,     1,     1,     1,     1,     1,     1,     1,     1,     1,     1,     1,     1,     1,     1,\n",
       "              1,     1,     1,     1,     1,     1,     1,     1,     1,     1,     1,     1,     1,     1,     1,     1,     1,     1,     1,     1,     1,     1,     1,     1,     1,     1,     1,     1,     1,     1,     1,     1,     1,     1,     1,     1,     1,     1,     1,     1,     1,     1,     1,     1,\n",
       "              1,     1,     1,     1,     1,     1,     1,     1,     1,     1,     1,     1,     1,     1,     1,     1,     1,     1,     1,     1,     1,     1,     1,     1,     1,     1,     1,     1,     1,     1,     1,     1,     1,     1,     1,     1,     1,     1,     1,     1,     1,     1,     1,     1,\n",
       "              1,     1,     1,     1,     1,     1,     1,     1,     1,     1,     1,     1,     1,     1,     1,     1,     1,     1,     1,     1,     1,     1,     1,     1,     1,     1,     1,     1,     1,     1,     1,     1,     1,     1,     1,     1,     1,     1,     1,     1,     1,     1,     1,     1,\n",
       "              1,     1,     1,     1,     1,     1,     1,     1,     1,     1,     1,     1,     1,     1,     1,     1,     1,     1,     1,     1,     1,     1,     1,     1,     1,     1,     1,     1]]), 'attention_mask': tensor([[1, 1, 1, 1, 1, 1, 1, 1, 1, 1, 1, 1, 1, 1, 1, 1, 0, 0, 0, 0, 0, 0, 0, 0, 0, 0, 0, 0, 0, 0, 0, 0, 0, 0, 0, 0, 0, 0, 0, 0, 0, 0, 0, 0, 0, 0, 0, 0, 0, 0, 0, 0, 0, 0, 0, 0, 0, 0, 0, 0, 0, 0, 0, 0, 0, 0, 0, 0, 0, 0, 0, 0, 0, 0, 0, 0, 0, 0, 0, 0, 0, 0, 0, 0, 0, 0, 0, 0, 0, 0, 0, 0, 0, 0, 0, 0, 0, 0, 0, 0, 0, 0, 0, 0,\n",
       "          0, 0, 0, 0, 0, 0, 0, 0, 0, 0, 0, 0, 0, 0, 0, 0, 0, 0, 0, 0, 0, 0, 0, 0, 0, 0, 0, 0, 0, 0, 0, 0, 0, 0, 0, 0, 0, 0, 0, 0, 0, 0, 0, 0, 0, 0, 0, 0, 0, 0, 0, 0, 0, 0, 0, 0, 0, 0, 0, 0, 0, 0, 0, 0, 0, 0, 0, 0, 0, 0, 0, 0, 0, 0, 0, 0, 0, 0, 0, 0, 0, 0, 0, 0, 0, 0, 0, 0, 0, 0, 0, 0, 0, 0, 0, 0, 0, 0, 0, 0, 0, 0, 0, 0,\n",
       "          0, 0, 0, 0, 0, 0, 0, 0, 0, 0, 0, 0, 0, 0, 0, 0, 0, 0, 0, 0, 0, 0, 0, 0, 0, 0, 0, 0, 0, 0, 0, 0, 0, 0, 0, 0, 0, 0, 0, 0, 0, 0, 0, 0, 0, 0, 0, 0, 0, 0, 0, 0, 0, 0, 0, 0, 0, 0, 0, 0, 0, 0, 0, 0, 0, 0, 0, 0, 0, 0, 0, 0, 0, 0, 0, 0, 0, 0, 0, 0, 0, 0, 0, 0, 0, 0, 0, 0, 0, 0, 0, 0, 0, 0, 0, 0, 0, 0, 0, 0, 0, 0, 0, 0,\n",
       "          0, 0, 0, 0, 0, 0, 0, 0, 0, 0, 0, 0, 0, 0, 0, 0, 0, 0, 0, 0, 0, 0, 0, 0, 0, 0, 0, 0, 0, 0, 0, 0, 0, 0, 0, 0, 0, 0, 0, 0, 0, 0, 0, 0, 0, 0, 0, 0, 0, 0, 0, 0, 0, 0, 0, 0, 0, 0, 0, 0, 0, 0, 0, 0, 0, 0, 0, 0, 0, 0, 0, 0, 0, 0, 0, 0, 0, 0, 0, 0, 0, 0, 0, 0, 0, 0, 0, 0, 0, 0, 0, 0, 0, 0, 0, 0, 0, 0, 0, 0, 0, 0, 0, 0,\n",
       "          0, 0, 0, 0, 0, 0, 0, 0, 0, 0, 0, 0, 0, 0, 0, 0, 0, 0, 0, 0, 0, 0, 0, 0, 0, 0, 0, 0, 0, 0, 0, 0, 0, 0, 0, 0, 0, 0, 0, 0, 0, 0, 0, 0, 0, 0, 0, 0, 0, 0, 0, 0, 0, 0, 0, 0, 0, 0, 0, 0, 0, 0, 0, 0, 0, 0, 0, 0, 0, 0, 0, 0, 0, 0, 0, 0, 0, 0, 0, 0, 0, 0, 0, 0, 0, 0, 0, 0, 0, 0, 0, 0, 0, 0, 0, 0]])},\n",
       " 'promptTagBert': {'input_ids': tensor([[  101, 16216, 24032,  1010,  6851,  2227,  1010,  6302, 22852,  2964,  1010,  7916,  1010, 12922, 14236, 16709,  2104,  3239,  1010,  4451,  1010, 14819,  2854,  1010, 16709,  1010,  2309,  2606, 21122,  1010, 19350,  1010, 10277,  2970,  1010,  3173, 12977,  1010,  2304,  2159,  1010,  2606, 21122,  1010,\n",
       "           2559,  2012, 13972,  1010,  2970,  1010,  3356,  2303,  1010, 12689,  1010,  2606,  6546,  1010,  5035, 17175,  1010,  3514,  1011,  3259, 12977,  1010,  6546,  1010,  2606,  2030, 18442,  3372,  1010,  2887,  4253,  1010,  3948,  1010, 12977,  1010,  2931,  9880, 16689,  2030, 14236,   102,     0,     0,\n",
       "              0,     0,     0,     0,     0,     0,     0,     0,     0,     0,     0,     0,     0,     0,     0,     0,     0,     0,     0,     0,     0,     0,     0,     0,     0,     0,     0,     0,     0,     0,     0,     0,     0,     0,     0,     0,     0,     0,     0,     0,     0,     0,     0,     0,\n",
       "              0,     0,     0,     0,     0,     0,     0,     0,     0,     0,     0,     0,     0,     0,     0,     0,     0,     0,     0,     0,     0,     0,     0,     0,     0,     0,     0,     0,     0,     0,     0,     0,     0,     0,     0,     0,     0,     0,     0,     0,     0,     0,     0,     0,\n",
       "              0,     0,     0,     0,     0,     0,     0,     0,     0,     0,     0,     0,     0,     0,     0,     0,     0,     0,     0,     0,     0,     0,     0,     0,     0,     0,     0,     0,     0,     0,     0,     0,     0,     0,     0,     0,     0,     0,     0,     0,     0,     0,     0,     0,\n",
       "              0,     0,     0,     0,     0,     0,     0,     0,     0,     0,     0,     0,     0,     0,     0,     0,     0,     0,     0,     0,     0,     0,     0,     0,     0,     0,     0,     0,     0,     0,     0,     0,     0,     0,     0,     0,     0,     0,     0,     0,     0,     0,     0,     0,\n",
       "              0,     0,     0,     0,     0,     0,     0,     0,     0,     0,     0,     0,     0,     0,     0,     0,     0,     0,     0,     0,     0,     0,     0,     0,     0,     0,     0,     0,     0,     0,     0,     0,     0,     0,     0,     0,     0,     0,     0,     0,     0,     0,     0,     0,\n",
       "              0,     0,     0,     0,     0,     0,     0,     0,     0,     0,     0,     0,     0,     0,     0,     0,     0,     0,     0,     0,     0,     0,     0,     0,     0,     0,     0,     0,     0,     0,     0,     0,     0,     0,     0,     0,     0,     0,     0,     0,     0,     0,     0,     0,\n",
       "              0,     0,     0,     0,     0,     0,     0,     0,     0,     0,     0,     0,     0,     0,     0,     0,     0,     0,     0,     0,     0,     0,     0,     0,     0,     0,     0,     0,     0,     0,     0,     0,     0,     0,     0,     0,     0,     0,     0,     0,     0,     0,     0,     0,\n",
       "              0,     0,     0,     0,     0,     0,     0,     0,     0,     0,     0,     0,     0,     0,     0,     0,     0,     0,     0,     0,     0,     0,     0,     0,     0,     0,     0,     0,     0,     0,     0,     0,     0,     0,     0,     0,     0,     0,     0,     0,     0,     0,     0,     0,\n",
       "              0,     0,     0,     0,     0,     0,     0,     0,     0,     0,     0,     0,     0,     0,     0,     0,     0,     0,     0,     0,     0,     0,     0,     0,     0,     0,     0,     0,     0,     0,     0,     0,     0,     0,     0,     0,     0,     0,     0,     0,     0,     0,     0,     0,\n",
       "              0,     0,     0,     0,     0,     0,     0,     0,     0,     0,     0,     0,     0,     0,     0,     0,     0,     0,     0,     0,     0,     0,     0,     0,     0,     0,     0,     0]]), 'attention_mask': tensor([[1, 1, 1, 1, 1, 1, 1, 1, 1, 1, 1, 1, 1, 1, 1, 1, 1, 1, 1, 1, 1, 1, 1, 1, 1, 1, 1, 1, 1, 1, 1, 1, 1, 1, 1, 1, 1, 1, 1, 1, 1, 1, 1, 1, 1, 1, 1, 1, 1, 1, 1, 1, 1, 1, 1, 1, 1, 1, 1, 1, 1, 1, 1, 1, 1, 1, 1, 1, 1, 1, 1, 1, 1, 1, 1, 1, 1, 1, 1, 1, 1, 1, 1, 1, 1, 1, 0, 0, 0, 0, 0, 0, 0, 0, 0, 0, 0, 0, 0, 0, 0, 0, 0, 0,\n",
       "          0, 0, 0, 0, 0, 0, 0, 0, 0, 0, 0, 0, 0, 0, 0, 0, 0, 0, 0, 0, 0, 0, 0, 0, 0, 0, 0, 0, 0, 0, 0, 0, 0, 0, 0, 0, 0, 0, 0, 0, 0, 0, 0, 0, 0, 0, 0, 0, 0, 0, 0, 0, 0, 0, 0, 0, 0, 0, 0, 0, 0, 0, 0, 0, 0, 0, 0, 0, 0, 0, 0, 0, 0, 0, 0, 0, 0, 0, 0, 0, 0, 0, 0, 0, 0, 0, 0, 0, 0, 0, 0, 0, 0, 0, 0, 0, 0, 0, 0, 0, 0, 0, 0, 0,\n",
       "          0, 0, 0, 0, 0, 0, 0, 0, 0, 0, 0, 0, 0, 0, 0, 0, 0, 0, 0, 0, 0, 0, 0, 0, 0, 0, 0, 0, 0, 0, 0, 0, 0, 0, 0, 0, 0, 0, 0, 0, 0, 0, 0, 0, 0, 0, 0, 0, 0, 0, 0, 0, 0, 0, 0, 0, 0, 0, 0, 0, 0, 0, 0, 0, 0, 0, 0, 0, 0, 0, 0, 0, 0, 0, 0, 0, 0, 0, 0, 0, 0, 0, 0, 0, 0, 0, 0, 0, 0, 0, 0, 0, 0, 0, 0, 0, 0, 0, 0, 0, 0, 0, 0, 0,\n",
       "          0, 0, 0, 0, 0, 0, 0, 0, 0, 0, 0, 0, 0, 0, 0, 0, 0, 0, 0, 0, 0, 0, 0, 0, 0, 0, 0, 0, 0, 0, 0, 0, 0, 0, 0, 0, 0, 0, 0, 0, 0, 0, 0, 0, 0, 0, 0, 0, 0, 0, 0, 0, 0, 0, 0, 0, 0, 0, 0, 0, 0, 0, 0, 0, 0, 0, 0, 0, 0, 0, 0, 0, 0, 0, 0, 0, 0, 0, 0, 0, 0, 0, 0, 0, 0, 0, 0, 0, 0, 0, 0, 0, 0, 0, 0, 0, 0, 0, 0, 0, 0, 0, 0, 0,\n",
       "          0, 0, 0, 0, 0, 0, 0, 0, 0, 0, 0, 0, 0, 0, 0, 0, 0, 0, 0, 0, 0, 0, 0, 0, 0, 0, 0, 0, 0, 0, 0, 0, 0, 0, 0, 0, 0, 0, 0, 0, 0, 0, 0, 0, 0, 0, 0, 0, 0, 0, 0, 0, 0, 0, 0, 0, 0, 0, 0, 0, 0, 0, 0, 0, 0, 0, 0, 0, 0, 0, 0, 0, 0, 0, 0, 0, 0, 0, 0, 0, 0, 0, 0, 0, 0, 0, 0, 0, 0, 0, 0, 0, 0, 0, 0, 0]])},\n",
       " 'label': tensor(0)}"
      ]
     },
     "execution_count": 11,
     "metadata": {},
     "output_type": "execute_result"
    }
   ],
   "source": [
    "processor(img_path= training_data[0][0],\n",
    "          text= training_data[0][1],\n",
    "          tags= training_data[0][2],\n",
    "          label= training_data[0][3])"
   ]
  },
  {
   "cell_type": "markdown",
   "metadata": {},
   "source": [
    "## Dataloader with collator"
   ]
  },
  {
   "cell_type": "code",
   "execution_count": 12,
   "metadata": {},
   "outputs": [],
   "source": [
    "def custom_collator(batch):\n",
    "    img_paths = [item[0] for item in batch]\n",
    "    texts = [item[1] for item in batch]\n",
    "    tags = [item[2] for item in batch]\n",
    "    labels = [item[3] for item in batch]\n",
    "    \n",
    "    # Assuming processor is defined elsewhere and processes the data correctly\n",
    "    processed_batch = [processor(img_paths[i], texts[i], tags[i], labels[i]) for i in range(len(img_paths))]\n",
    "    \n",
    "    out = {}\n",
    "    \n",
    "    for key in processed_batch[0].keys():\n",
    "        if isinstance(processed_batch[0][key], torch.Tensor):\n",
    "            out[key] = torch.stack([i[key] for i in processed_batch])\n",
    "        elif isinstance(processed_batch[0][key], BatchEncoding):\n",
    "\n",
    "            tmp = [i[key] for i in processed_batch]\n",
    "           \n",
    "            var = {k: [] for k in tmp[0].keys()}\n",
    "            for k in var.keys():\n",
    "                var[k] = torch.stack([i[k] for i in tmp])\n",
    "                \n",
    "            out[key] = var\n",
    "        else:\n",
    "            out[key] = [i[key] for i in processed_batch]\n",
    "    \n",
    "    return out\n"
   ]
  },
  {
   "cell_type": "code",
   "execution_count": 13,
   "metadata": {},
   "outputs": [],
   "source": [
    "train_dataloader = DataLoader(training_data, batch_size=5, shuffle=True, collate_fn=custom_collator)\n",
    "val_dataloader = DataLoader(validation_data, batch_size=5, shuffle=True, collate_fn=custom_collator)"
   ]
  },
  {
   "cell_type": "code",
   "execution_count": 14,
   "metadata": {},
   "outputs": [
    {
     "name": "stdout",
     "output_type": "stream",
     "text": [
      "{'baseresNet18': tensor([[[[[-1.5014, -1.4672, -1.3987,  ..., -1.7754, -1.8439, -1.5870],\n",
      "           [-1.5014, -1.4672, -1.4500,  ..., -1.7754, -1.8439, -1.5870],\n",
      "           [-1.5185, -1.4843, -1.4843,  ..., -1.7754, -1.8439, -1.5870],\n",
      "           ...,\n",
      "           [-1.8097, -1.7583, -1.1760,  ..., -0.9534, -1.0562, -1.2959],\n",
      "           [-1.8268, -1.7754, -1.2788,  ..., -0.9534, -1.1932, -1.5699],\n",
      "           [-1.8610, -1.7754, -1.4158,  ..., -1.0219, -1.3987, -1.7754]],\n",
      "\n",
      "          [[-1.1779, -1.1429, -1.1429,  ..., -1.6331, -1.7556, -1.5280],\n",
      "           [-1.1779, -1.1604, -1.1954,  ..., -1.6331, -1.7556, -1.5280],\n",
      "           [-1.1954, -1.1779, -1.2129,  ..., -1.6331, -1.7556, -1.5280],\n",
      "           ...,\n",
      "           [-1.8081, -1.8606, -1.4405,  ..., -1.2479, -1.2829, -1.4405],\n",
      "           [-1.8256, -1.8606, -1.5630,  ..., -1.2129, -1.3704, -1.6506],\n",
      "           [-1.8606, -1.8606, -1.7031,  ..., -1.2479, -1.5455, -1.8081]],\n",
      "\n",
      "          [[-0.8458, -0.8284, -0.8633,  ..., -1.2990, -1.4733, -1.2816],\n",
      "           [-0.8458, -0.8284, -0.8807,  ..., -1.2990, -1.4733, -1.2816],\n",
      "           [-0.8633, -0.8458, -0.8807,  ..., -1.2990, -1.4733, -1.2816],\n",
      "           ...,\n",
      "           [-1.6302, -1.6650, -1.3513,  ..., -1.2293, -1.2293, -1.3687],\n",
      "           [-1.6476, -1.6650, -1.4733,  ..., -1.1596, -1.2816, -1.5430],\n",
      "           [-1.6824, -1.6650, -1.5953,  ..., -1.1770, -1.4384, -1.6650]]]],\n",
      "\n",
      "\n",
      "\n",
      "        [[[[-0.3027, -0.2513, -0.1828,  ..., -0.5082, -0.5253, -0.5938],\n",
      "           [-0.4054, -0.4226, -0.4568,  ..., -0.7137, -0.6794, -0.7308],\n",
      "           [-0.5253, -0.5424, -0.6281,  ..., -0.6794, -0.4911, -0.6452],\n",
      "           ...,\n",
      "           [-0.5596, -0.5596, -0.5596,  ...,  2.1290,  2.1462,  2.1462],\n",
      "           [-0.6452, -0.6109, -0.6109,  ...,  2.1290,  2.1462,  2.1462],\n",
      "           [-0.6965, -0.6794, -0.6623,  ...,  2.1290,  2.1462,  2.1462]],\n",
      "\n",
      "          [[-0.1975, -0.1450,  0.0301,  ..., -0.3550, -0.3375, -0.4601],\n",
      "           [-0.3200, -0.2500, -0.1450,  ..., -0.5651, -0.5301, -0.6527],\n",
      "           [-0.3025, -0.1975, -0.1975,  ..., -0.5126, -0.3375, -0.5651],\n",
      "           ...,\n",
      "           [ 0.1176,  0.1176,  0.1176,  ...,  2.2885,  2.3060,  2.3060],\n",
      "           [ 0.0651,  0.1001,  0.1001,  ...,  2.2885,  2.3060,  2.3060],\n",
      "           [ 0.0476,  0.0651,  0.0826,  ...,  2.2885,  2.3060,  2.3060]],\n",
      "\n",
      "          [[-0.1138, -0.0441,  0.2522,  ..., -0.0964, -0.0790, -0.2532],\n",
      "           [-0.2532, -0.0441,  0.3219,  ..., -0.3055, -0.2707, -0.4450],\n",
      "           [-0.0267,  0.2871,  0.5311,  ..., -0.2532, -0.0790, -0.3578],\n",
      "           ...,\n",
      "           [ 0.8971,  0.8797,  0.8797,  ...,  2.4308,  2.4483,  2.4483],\n",
      "           [ 0.8448,  0.8448,  0.8622,  ...,  2.4308,  2.4483,  2.4483],\n",
      "           [ 0.8099,  0.8099,  0.8274,  ...,  2.4308,  2.4483,  2.4483]]]],\n",
      "\n",
      "\n",
      "\n",
      "        [[[[ 0.7077,  0.7077,  0.7077,  ...,  0.9646,  0.9646,  0.9646],\n",
      "           [ 0.7077,  0.7248,  0.6734,  ...,  0.9474,  0.9474,  0.9474],\n",
      "           [ 0.7077,  0.7077,  0.6734,  ...,  0.9646,  0.9474,  0.9474],\n",
      "           ...,\n",
      "           [ 0.9474,  0.9474,  0.9988,  ..., -0.8507, -0.7650, -0.6452],\n",
      "           [ 0.9132,  0.9303,  0.9817,  ..., -0.6109, -0.5082, -0.4397],\n",
      "           [ 0.8961,  0.9132,  0.9474,  ..., -0.6452, -0.6109, -0.5253]],\n",
      "\n",
      "          [[ 0.6604,  0.6604,  0.6779,  ...,  0.9405,  0.9405,  0.9405],\n",
      "           [ 0.6604,  0.6779,  0.6604,  ...,  0.9230,  0.9230,  0.9230],\n",
      "           [ 0.6604,  0.6604,  0.6604,  ...,  0.9405,  0.9230,  0.9230],\n",
      "           ...,\n",
      "           [ 1.0105,  1.0105,  1.0630,  ..., -0.9328, -0.8452, -0.7227],\n",
      "           [ 0.9755,  0.9930,  1.0455,  ..., -0.6877, -0.5826, -0.5126],\n",
      "           [ 0.9580,  0.9755,  1.0105,  ..., -0.7227, -0.6877, -0.5826]],\n",
      "\n",
      "          [[ 0.8099,  0.8099,  0.8274,  ...,  1.0017,  1.0017,  1.0017],\n",
      "           [ 0.8099,  0.8274,  0.7925,  ...,  0.9842,  0.9842,  0.9842],\n",
      "           [ 0.8099,  0.8099,  0.7925,  ...,  1.0017,  0.9842,  0.9842],\n",
      "           ...,\n",
      "           [ 1.1585,  1.1585,  1.2108,  ..., -0.6018, -0.5147, -0.4101],\n",
      "           [ 1.1237,  1.1411,  1.1934,  ..., -0.3578, -0.2881, -0.2184],\n",
      "           [ 1.1062,  1.1237,  1.1585,  ..., -0.4275, -0.3927, -0.3055]]]],\n",
      "\n",
      "\n",
      "\n",
      "        [[[[-1.1932, -1.1418, -1.0733,  ..., -0.7479, -0.5082, -0.4568],\n",
      "           [-1.2103, -1.1418, -1.0733,  ..., -0.7993, -0.5767, -0.4911],\n",
      "           [-1.2103, -1.1075, -1.0219,  ..., -0.7993, -0.5767, -0.4739],\n",
      "           ...,\n",
      "           [-0.7822, -0.7308, -0.7308,  ...,  2.2318,  2.1462,  1.4269],\n",
      "           [-0.7650, -0.8678, -0.8164,  ...,  2.2489,  1.9407,  1.1872],\n",
      "           [-0.8335, -0.9020, -1.0219,  ...,  2.1975,  1.3927,  1.3413]],\n",
      "\n",
      "          [[-1.1954, -1.1429, -1.0728,  ..., -1.1779, -0.9503, -0.9678],\n",
      "           [-1.2129, -1.1429, -1.0728,  ..., -1.2129, -1.0203, -0.9678],\n",
      "           [-1.2129, -1.1078, -1.0203,  ..., -1.1779, -0.9853, -0.9153],\n",
      "           ...,\n",
      "           [-1.6155, -1.5805, -1.4930,  ...,  2.1134,  2.0434,  1.2906],\n",
      "           [-1.4930, -1.5980, -1.5280,  ...,  2.1485,  1.8333,  1.0630],\n",
      "           [-1.4230, -1.4930, -1.6506,  ...,  2.0784,  1.2731,  1.2381]],\n",
      "\n",
      "          [[-0.8981, -0.8458, -0.7761,  ..., -0.9853, -0.7936, -0.8458],\n",
      "           [-0.9156, -0.8458, -0.7761,  ..., -1.0550, -0.8633, -0.8633],\n",
      "           [-0.9156, -0.8110, -0.7238,  ..., -1.0724, -0.8807, -0.8110],\n",
      "           ...,\n",
      "           [-1.3687, -1.3164, -1.2293,  ...,  2.0648,  1.9951,  1.2282],\n",
      "           [-1.2293, -1.3687, -1.2641,  ...,  2.0997,  1.7685,  1.0017],\n",
      "           [-1.1421, -1.2293, -1.3861,  ...,  1.9777,  1.1934,  1.2108]]]],\n",
      "\n",
      "\n",
      "\n",
      "        [[[[ 1.2557,  1.7865,  1.9920,  ..., -0.6794, -0.6281, -0.5596],\n",
      "           [ 1.0673,  1.5810,  1.6324,  ..., -0.6281, -0.5424, -0.5082],\n",
      "           [ 1.1358,  1.3927,  1.2899,  ..., -0.5253, -0.3369, -0.3198],\n",
      "           ...,\n",
      "           [-0.4226, -0.4226, -0.3883,  ...,  0.0227,  0.0227, -0.0116],\n",
      "           [-0.4568, -0.4397, -0.4054,  ...,  0.0056,  0.0398,  0.0056],\n",
      "           [-0.4397, -0.4397, -0.3712,  ...,  0.0569,  0.0056, -0.0458]],\n",
      "\n",
      "          [[ 0.2927,  0.8529,  1.2381,  ..., -1.0553, -1.0378, -1.0553],\n",
      "           [ 0.0301,  0.5903,  0.8179,  ..., -1.0378, -1.0203, -1.0553],\n",
      "           [ 0.0651,  0.3452,  0.4328,  ..., -1.0553, -0.9153, -0.9503],\n",
      "           ...,\n",
      "           [-0.8102, -0.8102, -0.8102,  ..., -0.4426, -0.4426, -0.4776],\n",
      "           [-0.8277, -0.8102, -0.8277,  ..., -0.4601, -0.4251, -0.4601],\n",
      "           [-0.8102, -0.8102, -0.8102,  ..., -0.4076, -0.4601, -0.5126]],\n",
      "\n",
      "          [[-0.5670,  0.0082,  0.2522,  ..., -0.9156, -0.8981, -0.9156],\n",
      "           [-0.7587, -0.2010, -0.1661,  ..., -0.8633, -0.8633, -0.9156],\n",
      "           [-0.6715, -0.4101, -0.5147,  ..., -0.9853, -0.8633, -0.9678],\n",
      "           ...,\n",
      "           [-0.7413, -0.7238, -0.6715,  ..., -0.3753, -0.3753, -0.4101],\n",
      "           [-0.7936, -0.7761, -0.7064,  ..., -0.3927, -0.3578, -0.3927],\n",
      "           [-0.7761, -0.7761, -0.7064,  ..., -0.3404, -0.3927, -0.4450]]]]]), 'baseresNet50': tensor([[[[[-1.5014, -1.4672, -1.3987,  ..., -1.7754, -1.8439, -1.5870],\n",
      "           [-1.5014, -1.4672, -1.4500,  ..., -1.7754, -1.8439, -1.5870],\n",
      "           [-1.5185, -1.4843, -1.4843,  ..., -1.7754, -1.8439, -1.5870],\n",
      "           ...,\n",
      "           [-1.8097, -1.7583, -1.1760,  ..., -0.9534, -1.0562, -1.2959],\n",
      "           [-1.8268, -1.7754, -1.2788,  ..., -0.9534, -1.1932, -1.5699],\n",
      "           [-1.8610, -1.7754, -1.4158,  ..., -1.0219, -1.3987, -1.7754]],\n",
      "\n",
      "          [[-1.1779, -1.1429, -1.1429,  ..., -1.6331, -1.7556, -1.5280],\n",
      "           [-1.1779, -1.1604, -1.1954,  ..., -1.6331, -1.7556, -1.5280],\n",
      "           [-1.1954, -1.1779, -1.2129,  ..., -1.6331, -1.7556, -1.5280],\n",
      "           ...,\n",
      "           [-1.8081, -1.8606, -1.4405,  ..., -1.2479, -1.2829, -1.4405],\n",
      "           [-1.8256, -1.8606, -1.5630,  ..., -1.2129, -1.3704, -1.6506],\n",
      "           [-1.8606, -1.8606, -1.7031,  ..., -1.2479, -1.5455, -1.8081]],\n",
      "\n",
      "          [[-0.8458, -0.8284, -0.8633,  ..., -1.2990, -1.4733, -1.2816],\n",
      "           [-0.8458, -0.8284, -0.8807,  ..., -1.2990, -1.4733, -1.2816],\n",
      "           [-0.8633, -0.8458, -0.8807,  ..., -1.2990, -1.4733, -1.2816],\n",
      "           ...,\n",
      "           [-1.6302, -1.6650, -1.3513,  ..., -1.2293, -1.2293, -1.3687],\n",
      "           [-1.6476, -1.6650, -1.4733,  ..., -1.1596, -1.2816, -1.5430],\n",
      "           [-1.6824, -1.6650, -1.5953,  ..., -1.1770, -1.4384, -1.6650]]]],\n",
      "\n",
      "\n",
      "\n",
      "        [[[[-0.3027, -0.2513, -0.1828,  ..., -0.5082, -0.5253, -0.5938],\n",
      "           [-0.4054, -0.4226, -0.4568,  ..., -0.7137, -0.6794, -0.7308],\n",
      "           [-0.5253, -0.5424, -0.6281,  ..., -0.6794, -0.4911, -0.6452],\n",
      "           ...,\n",
      "           [-0.5596, -0.5596, -0.5596,  ...,  2.1290,  2.1462,  2.1462],\n",
      "           [-0.6452, -0.6109, -0.6109,  ...,  2.1290,  2.1462,  2.1462],\n",
      "           [-0.6965, -0.6794, -0.6623,  ...,  2.1290,  2.1462,  2.1462]],\n",
      "\n",
      "          [[-0.1975, -0.1450,  0.0301,  ..., -0.3550, -0.3375, -0.4601],\n",
      "           [-0.3200, -0.2500, -0.1450,  ..., -0.5651, -0.5301, -0.6527],\n",
      "           [-0.3025, -0.1975, -0.1975,  ..., -0.5126, -0.3375, -0.5651],\n",
      "           ...,\n",
      "           [ 0.1176,  0.1176,  0.1176,  ...,  2.2885,  2.3060,  2.3060],\n",
      "           [ 0.0651,  0.1001,  0.1001,  ...,  2.2885,  2.3060,  2.3060],\n",
      "           [ 0.0476,  0.0651,  0.0826,  ...,  2.2885,  2.3060,  2.3060]],\n",
      "\n",
      "          [[-0.1138, -0.0441,  0.2522,  ..., -0.0964, -0.0790, -0.2532],\n",
      "           [-0.2532, -0.0441,  0.3219,  ..., -0.3055, -0.2707, -0.4450],\n",
      "           [-0.0267,  0.2871,  0.5311,  ..., -0.2532, -0.0790, -0.3578],\n",
      "           ...,\n",
      "           [ 0.8971,  0.8797,  0.8797,  ...,  2.4308,  2.4483,  2.4483],\n",
      "           [ 0.8448,  0.8448,  0.8622,  ...,  2.4308,  2.4483,  2.4483],\n",
      "           [ 0.8099,  0.8099,  0.8274,  ...,  2.4308,  2.4483,  2.4483]]]],\n",
      "\n",
      "\n",
      "\n",
      "        [[[[ 0.7077,  0.7077,  0.7077,  ...,  0.9646,  0.9646,  0.9646],\n",
      "           [ 0.7077,  0.7248,  0.6734,  ...,  0.9474,  0.9474,  0.9474],\n",
      "           [ 0.7077,  0.7077,  0.6734,  ...,  0.9646,  0.9474,  0.9474],\n",
      "           ...,\n",
      "           [ 0.9474,  0.9474,  0.9988,  ..., -0.8507, -0.7650, -0.6452],\n",
      "           [ 0.9132,  0.9303,  0.9817,  ..., -0.6109, -0.5082, -0.4397],\n",
      "           [ 0.8961,  0.9132,  0.9474,  ..., -0.6452, -0.6109, -0.5253]],\n",
      "\n",
      "          [[ 0.6604,  0.6604,  0.6779,  ...,  0.9405,  0.9405,  0.9405],\n",
      "           [ 0.6604,  0.6779,  0.6604,  ...,  0.9230,  0.9230,  0.9230],\n",
      "           [ 0.6604,  0.6604,  0.6604,  ...,  0.9405,  0.9230,  0.9230],\n",
      "           ...,\n",
      "           [ 1.0105,  1.0105,  1.0630,  ..., -0.9328, -0.8452, -0.7227],\n",
      "           [ 0.9755,  0.9930,  1.0455,  ..., -0.6877, -0.5826, -0.5126],\n",
      "           [ 0.9580,  0.9755,  1.0105,  ..., -0.7227, -0.6877, -0.5826]],\n",
      "\n",
      "          [[ 0.8099,  0.8099,  0.8274,  ...,  1.0017,  1.0017,  1.0017],\n",
      "           [ 0.8099,  0.8274,  0.7925,  ...,  0.9842,  0.9842,  0.9842],\n",
      "           [ 0.8099,  0.8099,  0.7925,  ...,  1.0017,  0.9842,  0.9842],\n",
      "           ...,\n",
      "           [ 1.1585,  1.1585,  1.2108,  ..., -0.6018, -0.5147, -0.4101],\n",
      "           [ 1.1237,  1.1411,  1.1934,  ..., -0.3578, -0.2881, -0.2184],\n",
      "           [ 1.1062,  1.1237,  1.1585,  ..., -0.4275, -0.3927, -0.3055]]]],\n",
      "\n",
      "\n",
      "\n",
      "        [[[[-1.1932, -1.1418, -1.0733,  ..., -0.7479, -0.5082, -0.4568],\n",
      "           [-1.2103, -1.1418, -1.0733,  ..., -0.7993, -0.5767, -0.4911],\n",
      "           [-1.2103, -1.1075, -1.0219,  ..., -0.7993, -0.5767, -0.4739],\n",
      "           ...,\n",
      "           [-0.7822, -0.7308, -0.7308,  ...,  2.2318,  2.1462,  1.4269],\n",
      "           [-0.7650, -0.8678, -0.8164,  ...,  2.2489,  1.9407,  1.1872],\n",
      "           [-0.8335, -0.9020, -1.0219,  ...,  2.1975,  1.3927,  1.3413]],\n",
      "\n",
      "          [[-1.1954, -1.1429, -1.0728,  ..., -1.1779, -0.9503, -0.9678],\n",
      "           [-1.2129, -1.1429, -1.0728,  ..., -1.2129, -1.0203, -0.9678],\n",
      "           [-1.2129, -1.1078, -1.0203,  ..., -1.1779, -0.9853, -0.9153],\n",
      "           ...,\n",
      "           [-1.6155, -1.5805, -1.4930,  ...,  2.1134,  2.0434,  1.2906],\n",
      "           [-1.4930, -1.5980, -1.5280,  ...,  2.1485,  1.8333,  1.0630],\n",
      "           [-1.4230, -1.4930, -1.6506,  ...,  2.0784,  1.2731,  1.2381]],\n",
      "\n",
      "          [[-0.8981, -0.8458, -0.7761,  ..., -0.9853, -0.7936, -0.8458],\n",
      "           [-0.9156, -0.8458, -0.7761,  ..., -1.0550, -0.8633, -0.8633],\n",
      "           [-0.9156, -0.8110, -0.7238,  ..., -1.0724, -0.8807, -0.8110],\n",
      "           ...,\n",
      "           [-1.3687, -1.3164, -1.2293,  ...,  2.0648,  1.9951,  1.2282],\n",
      "           [-1.2293, -1.3687, -1.2641,  ...,  2.0997,  1.7685,  1.0017],\n",
      "           [-1.1421, -1.2293, -1.3861,  ...,  1.9777,  1.1934,  1.2108]]]],\n",
      "\n",
      "\n",
      "\n",
      "        [[[[ 1.2557,  1.7865,  1.9920,  ..., -0.6794, -0.6281, -0.5596],\n",
      "           [ 1.0673,  1.5810,  1.6324,  ..., -0.6281, -0.5424, -0.5082],\n",
      "           [ 1.1358,  1.3927,  1.2899,  ..., -0.5253, -0.3369, -0.3198],\n",
      "           ...,\n",
      "           [-0.4226, -0.4226, -0.3883,  ...,  0.0227,  0.0227, -0.0116],\n",
      "           [-0.4568, -0.4397, -0.4054,  ...,  0.0056,  0.0398,  0.0056],\n",
      "           [-0.4397, -0.4397, -0.3712,  ...,  0.0569,  0.0056, -0.0458]],\n",
      "\n",
      "          [[ 0.2927,  0.8529,  1.2381,  ..., -1.0553, -1.0378, -1.0553],\n",
      "           [ 0.0301,  0.5903,  0.8179,  ..., -1.0378, -1.0203, -1.0553],\n",
      "           [ 0.0651,  0.3452,  0.4328,  ..., -1.0553, -0.9153, -0.9503],\n",
      "           ...,\n",
      "           [-0.8102, -0.8102, -0.8102,  ..., -0.4426, -0.4426, -0.4776],\n",
      "           [-0.8277, -0.8102, -0.8277,  ..., -0.4601, -0.4251, -0.4601],\n",
      "           [-0.8102, -0.8102, -0.8102,  ..., -0.4076, -0.4601, -0.5126]],\n",
      "\n",
      "          [[-0.5670,  0.0082,  0.2522,  ..., -0.9156, -0.8981, -0.9156],\n",
      "           [-0.7587, -0.2010, -0.1661,  ..., -0.8633, -0.8633, -0.9156],\n",
      "           [-0.6715, -0.4101, -0.5147,  ..., -0.9853, -0.8633, -0.9678],\n",
      "           ...,\n",
      "           [-0.7413, -0.7238, -0.6715,  ..., -0.3753, -0.3753, -0.4101],\n",
      "           [-0.7936, -0.7761, -0.7064,  ..., -0.3927, -0.3578, -0.3927],\n",
      "           [-0.7761, -0.7761, -0.7064,  ..., -0.3404, -0.3927, -0.4450]]]]]), 'june_yolo_cls': tensor([[[[0.1373, 0.1412, 0.1451,  ..., 0.2510, 0.2510, 0.4392],\n",
      "          [0.1373, 0.1412, 0.1451,  ..., 0.2549, 0.2510, 0.4471],\n",
      "          [0.1373, 0.1412, 0.1451,  ..., 0.2510, 0.2471, 0.4471],\n",
      "          ...,\n",
      "          [0.1255, 0.0863, 0.0588,  ..., 0.0549, 0.0824, 0.0627],\n",
      "          [0.1294, 0.0863, 0.0627,  ..., 0.0706, 0.0510, 0.0471],\n",
      "          [0.1294, 0.0902, 0.0667,  ..., 0.0510, 0.0471, 0.0549]],\n",
      "\n",
      "         [[0.1882, 0.1922, 0.1961,  ..., 0.2392, 0.2314, 0.3882],\n",
      "          [0.1882, 0.1922, 0.1961,  ..., 0.2431, 0.2314, 0.3882],\n",
      "          [0.1882, 0.1922, 0.1961,  ..., 0.2353, 0.2235, 0.3804],\n",
      "          ...,\n",
      "          [0.1255, 0.0863, 0.0549,  ..., 0.0471, 0.0784, 0.0627],\n",
      "          [0.1294, 0.0863, 0.0627,  ..., 0.0627, 0.0471, 0.0471],\n",
      "          [0.1294, 0.0902, 0.0667,  ..., 0.0431, 0.0392, 0.0510]],\n",
      "\n",
      "         [[0.2196, 0.2235, 0.2275,  ..., 0.2196, 0.1569, 0.1725],\n",
      "          [0.2196, 0.2235, 0.2275,  ..., 0.2235, 0.1569, 0.1804],\n",
      "          [0.2196, 0.2235, 0.2275,  ..., 0.2157, 0.1529, 0.1804],\n",
      "          ...,\n",
      "          [0.1255, 0.0863, 0.0588,  ..., 0.0588, 0.0941, 0.0706],\n",
      "          [0.1294, 0.0863, 0.0627,  ..., 0.0745, 0.0627, 0.0549],\n",
      "          [0.1294, 0.0902, 0.0667,  ..., 0.0549, 0.0588, 0.0627]]],\n",
      "\n",
      "\n",
      "        [[[0.5725, 0.5882, 0.5804,  ..., 0.5255, 0.6196, 0.6627],\n",
      "          [0.5647, 0.5804, 0.5765,  ..., 0.5020, 0.6235, 0.6784],\n",
      "          [0.5569, 0.5647, 0.5647,  ..., 0.4784, 0.5843, 0.6353],\n",
      "          ...,\n",
      "          [0.3255, 0.3255, 0.3176,  ..., 0.9373, 0.9373, 0.9373],\n",
      "          [0.3137, 0.3176, 0.3216,  ..., 0.9294, 0.9294, 0.9294],\n",
      "          [0.3176, 0.3216, 0.3255,  ..., 0.9216, 0.9137, 0.9137]],\n",
      "\n",
      "         [[0.6980, 0.7137, 0.7059,  ..., 0.6000, 0.7059, 0.7529],\n",
      "          [0.6902, 0.7059, 0.7020,  ..., 0.5765, 0.7098, 0.7686],\n",
      "          [0.6824, 0.6902, 0.6902,  ..., 0.5490, 0.6667, 0.7294],\n",
      "          ...,\n",
      "          [0.4588, 0.4588, 0.4510,  ..., 0.9412, 0.9412, 0.9412],\n",
      "          [0.4471, 0.4510, 0.4549,  ..., 0.9333, 0.9333, 0.9333],\n",
      "          [0.4510, 0.4549, 0.4588,  ..., 0.9216, 0.9176, 0.9137]],\n",
      "\n",
      "         [[0.7882, 0.8078, 0.7961,  ..., 0.6471, 0.7490, 0.7961],\n",
      "          [0.7804, 0.7961, 0.7922,  ..., 0.6196, 0.7529, 0.8078],\n",
      "          [0.7725, 0.7804, 0.7804,  ..., 0.5961, 0.7098, 0.7686],\n",
      "          ...,\n",
      "          [0.5961, 0.5961, 0.5882,  ..., 0.9216, 0.9216, 0.9216],\n",
      "          [0.5843, 0.5882, 0.5922,  ..., 0.9137, 0.9137, 0.9137],\n",
      "          [0.5843, 0.5922, 0.5961,  ..., 0.9059, 0.8980, 0.8980]]],\n",
      "\n",
      "\n",
      "        [[[0.6275, 0.6275, 0.6314,  ..., 0.6902, 0.6941, 0.6902],\n",
      "          [0.6275, 0.6275, 0.6314,  ..., 0.6902, 0.6941, 0.6902],\n",
      "          [0.6275, 0.6275, 0.6314,  ..., 0.6863, 0.6902, 0.6902],\n",
      "          ...,\n",
      "          [0.5059, 0.5098, 0.5137,  ..., 0.4196, 0.4235, 0.4275],\n",
      "          [0.4824, 0.4902, 0.4980,  ..., 0.4196, 0.4196, 0.4235],\n",
      "          [0.4588, 0.4667, 0.4745,  ..., 0.4196, 0.4157, 0.4157]],\n",
      "\n",
      "         [[0.5725, 0.5725, 0.5765,  ..., 0.6549, 0.6588, 0.6549],\n",
      "          [0.5725, 0.5725, 0.5765,  ..., 0.6549, 0.6588, 0.6549],\n",
      "          [0.5725, 0.5725, 0.5765,  ..., 0.6510, 0.6549, 0.6549],\n",
      "          ...,\n",
      "          [0.4627, 0.4667, 0.4706,  ..., 0.3804, 0.3843, 0.3882],\n",
      "          [0.4392, 0.4471, 0.4549,  ..., 0.3804, 0.3804, 0.3843],\n",
      "          [0.4157, 0.4235, 0.4314,  ..., 0.3804, 0.3765, 0.3765]],\n",
      "\n",
      "         [[0.5686, 0.5686, 0.5725,  ..., 0.6196, 0.6235, 0.6275],\n",
      "          [0.5686, 0.5686, 0.5725,  ..., 0.6196, 0.6235, 0.6275],\n",
      "          [0.5686, 0.5686, 0.5725,  ..., 0.6157, 0.6196, 0.6314],\n",
      "          ...,\n",
      "          [0.4784, 0.4824, 0.4863,  ..., 0.3725, 0.3765, 0.3804],\n",
      "          [0.4549, 0.4627, 0.4706,  ..., 0.3725, 0.3725, 0.3765],\n",
      "          [0.4314, 0.4392, 0.4471,  ..., 0.3725, 0.3686, 0.3686]]],\n",
      "\n",
      "\n",
      "        [[[0.1647, 0.1647, 0.1647,  ..., 0.6471, 0.6510, 0.6353],\n",
      "          [0.1647, 0.1647, 0.1647,  ..., 0.6157, 0.6078, 0.6039],\n",
      "          [0.1647, 0.1647, 0.1647,  ..., 0.7686, 0.8157, 0.8549],\n",
      "          ...,\n",
      "          [0.6118, 0.6078, 0.6039,  ..., 0.4314, 0.4314, 0.4314],\n",
      "          [0.6078, 0.6039, 0.6039,  ..., 0.4314, 0.4314, 0.4314],\n",
      "          [0.5922, 0.5922, 0.5961,  ..., 0.4353, 0.4353, 0.4275]],\n",
      "\n",
      "         [[0.1412, 0.1412, 0.1412,  ..., 0.3922, 0.4000, 0.3882],\n",
      "          [0.1412, 0.1412, 0.1412,  ..., 0.3843, 0.3725, 0.3725],\n",
      "          [0.1412, 0.1412, 0.1412,  ..., 0.5686, 0.6196, 0.6549],\n",
      "          ...,\n",
      "          [0.4980, 0.5020, 0.5098,  ..., 0.4039, 0.4039, 0.3961],\n",
      "          [0.4980, 0.5020, 0.5098,  ..., 0.4039, 0.4039, 0.3961],\n",
      "          [0.5059, 0.5059, 0.5059,  ..., 0.4000, 0.4000, 0.4000]],\n",
      "\n",
      "         [[0.1490, 0.1490, 0.1490,  ..., 0.2706, 0.2784, 0.2902],\n",
      "          [0.1490, 0.1490, 0.1490,  ..., 0.2667, 0.2588, 0.2745],\n",
      "          [0.1490, 0.1490, 0.1490,  ..., 0.4588, 0.5098, 0.5451],\n",
      "          ...,\n",
      "          [0.5137, 0.5176, 0.5176,  ..., 0.4667, 0.4667, 0.4627],\n",
      "          [0.5098, 0.5176, 0.5176,  ..., 0.4667, 0.4667, 0.4627],\n",
      "          [0.5020, 0.5098, 0.5216,  ..., 0.4667, 0.4667, 0.4627]]],\n",
      "\n",
      "\n",
      "        [[[0.6588, 0.5529, 0.4980,  ..., 0.4235, 0.5176, 0.5333],\n",
      "          [0.8275, 0.6863, 0.5647,  ..., 0.5922, 0.6784, 0.6863],\n",
      "          [0.9098, 0.8706, 0.7294,  ..., 0.7569, 0.8902, 0.8980],\n",
      "          ...,\n",
      "          [0.3137, 0.3137, 0.3176,  ..., 0.4039, 0.3843, 0.3804],\n",
      "          [0.3059, 0.3098, 0.3137,  ..., 0.4039, 0.3843, 0.3765],\n",
      "          [0.3020, 0.3059, 0.3098,  ..., 0.4000, 0.3804, 0.3686]],\n",
      "\n",
      "         [[0.3961, 0.3020, 0.2627,  ..., 0.2314, 0.2941, 0.3059],\n",
      "          [0.5490, 0.4118, 0.3059,  ..., 0.3490, 0.3922, 0.3647],\n",
      "          [0.6588, 0.6157, 0.4745,  ..., 0.4706, 0.5882, 0.6275],\n",
      "          ...,\n",
      "          [0.2039, 0.2039, 0.2078,  ..., 0.2863, 0.2667, 0.2627],\n",
      "          [0.1961, 0.2000, 0.2039,  ..., 0.2863, 0.2706, 0.2588],\n",
      "          [0.1922, 0.1961, 0.2000,  ..., 0.2824, 0.2667, 0.2510]],\n",
      "\n",
      "         [[0.2314, 0.1843, 0.2039,  ..., 0.1255, 0.1529, 0.1176],\n",
      "          [0.3137, 0.2275, 0.1804,  ..., 0.1647, 0.1725, 0.1294],\n",
      "          [0.3686, 0.3686, 0.2902,  ..., 0.2118, 0.2863, 0.3137],\n",
      "          ...,\n",
      "          [0.1608, 0.1608, 0.1647,  ..., 0.2549, 0.2353, 0.2314],\n",
      "          [0.1529, 0.1569, 0.1608,  ..., 0.2549, 0.2392, 0.2275],\n",
      "          [0.1490, 0.1529, 0.1569,  ..., 0.2510, 0.2353, 0.2196]]]]), 'resNet18CV': tensor([[[[[-1.5014, -1.4672, -1.3987,  ..., -1.7754, -1.8439, -1.5870],\n",
      "           [-1.5014, -1.4672, -1.4500,  ..., -1.7754, -1.8439, -1.5870],\n",
      "           [-1.5185, -1.4843, -1.4843,  ..., -1.7754, -1.8439, -1.5870],\n",
      "           ...,\n",
      "           [-1.8097, -1.7583, -1.1760,  ..., -0.9534, -1.0562, -1.2959],\n",
      "           [-1.8268, -1.7754, -1.2788,  ..., -0.9534, -1.1932, -1.5699],\n",
      "           [-1.8610, -1.7754, -1.4158,  ..., -1.0219, -1.3987, -1.7754]],\n",
      "\n",
      "          [[-1.1779, -1.1429, -1.1429,  ..., -1.6331, -1.7556, -1.5280],\n",
      "           [-1.1779, -1.1604, -1.1954,  ..., -1.6331, -1.7556, -1.5280],\n",
      "           [-1.1954, -1.1779, -1.2129,  ..., -1.6331, -1.7556, -1.5280],\n",
      "           ...,\n",
      "           [-1.8081, -1.8606, -1.4405,  ..., -1.2479, -1.2829, -1.4405],\n",
      "           [-1.8256, -1.8606, -1.5630,  ..., -1.2129, -1.3704, -1.6506],\n",
      "           [-1.8606, -1.8606, -1.7031,  ..., -1.2479, -1.5455, -1.8081]],\n",
      "\n",
      "          [[-0.8458, -0.8284, -0.8633,  ..., -1.2990, -1.4733, -1.2816],\n",
      "           [-0.8458, -0.8284, -0.8807,  ..., -1.2990, -1.4733, -1.2816],\n",
      "           [-0.8633, -0.8458, -0.8807,  ..., -1.2990, -1.4733, -1.2816],\n",
      "           ...,\n",
      "           [-1.6302, -1.6650, -1.3513,  ..., -1.2293, -1.2293, -1.3687],\n",
      "           [-1.6476, -1.6650, -1.4733,  ..., -1.1596, -1.2816, -1.5430],\n",
      "           [-1.6824, -1.6650, -1.5953,  ..., -1.1770, -1.4384, -1.6650]]]],\n",
      "\n",
      "\n",
      "\n",
      "        [[[[-0.3027, -0.2513, -0.1828,  ..., -0.5082, -0.5253, -0.5938],\n",
      "           [-0.4054, -0.4226, -0.4568,  ..., -0.7137, -0.6794, -0.7308],\n",
      "           [-0.5253, -0.5424, -0.6281,  ..., -0.6794, -0.4911, -0.6452],\n",
      "           ...,\n",
      "           [-0.5596, -0.5596, -0.5596,  ...,  2.1290,  2.1462,  2.1462],\n",
      "           [-0.6452, -0.6109, -0.6109,  ...,  2.1290,  2.1462,  2.1462],\n",
      "           [-0.6965, -0.6794, -0.6623,  ...,  2.1290,  2.1462,  2.1462]],\n",
      "\n",
      "          [[-0.1975, -0.1450,  0.0301,  ..., -0.3550, -0.3375, -0.4601],\n",
      "           [-0.3200, -0.2500, -0.1450,  ..., -0.5651, -0.5301, -0.6527],\n",
      "           [-0.3025, -0.1975, -0.1975,  ..., -0.5126, -0.3375, -0.5651],\n",
      "           ...,\n",
      "           [ 0.1176,  0.1176,  0.1176,  ...,  2.2885,  2.3060,  2.3060],\n",
      "           [ 0.0651,  0.1001,  0.1001,  ...,  2.2885,  2.3060,  2.3060],\n",
      "           [ 0.0476,  0.0651,  0.0826,  ...,  2.2885,  2.3060,  2.3060]],\n",
      "\n",
      "          [[-0.1138, -0.0441,  0.2522,  ..., -0.0964, -0.0790, -0.2532],\n",
      "           [-0.2532, -0.0441,  0.3219,  ..., -0.3055, -0.2707, -0.4450],\n",
      "           [-0.0267,  0.2871,  0.5311,  ..., -0.2532, -0.0790, -0.3578],\n",
      "           ...,\n",
      "           [ 0.8971,  0.8797,  0.8797,  ...,  2.4308,  2.4483,  2.4483],\n",
      "           [ 0.8448,  0.8448,  0.8622,  ...,  2.4308,  2.4483,  2.4483],\n",
      "           [ 0.8099,  0.8099,  0.8274,  ...,  2.4308,  2.4483,  2.4483]]]],\n",
      "\n",
      "\n",
      "\n",
      "        [[[[ 0.7077,  0.7077,  0.7077,  ...,  0.9646,  0.9646,  0.9646],\n",
      "           [ 0.7077,  0.7248,  0.6734,  ...,  0.9474,  0.9474,  0.9474],\n",
      "           [ 0.7077,  0.7077,  0.6734,  ...,  0.9646,  0.9474,  0.9474],\n",
      "           ...,\n",
      "           [ 0.9474,  0.9474,  0.9988,  ..., -0.8507, -0.7650, -0.6452],\n",
      "           [ 0.9132,  0.9303,  0.9817,  ..., -0.6109, -0.5082, -0.4397],\n",
      "           [ 0.8961,  0.9132,  0.9474,  ..., -0.6452, -0.6109, -0.5253]],\n",
      "\n",
      "          [[ 0.6604,  0.6604,  0.6779,  ...,  0.9405,  0.9405,  0.9405],\n",
      "           [ 0.6604,  0.6779,  0.6604,  ...,  0.9230,  0.9230,  0.9230],\n",
      "           [ 0.6604,  0.6604,  0.6604,  ...,  0.9405,  0.9230,  0.9230],\n",
      "           ...,\n",
      "           [ 1.0105,  1.0105,  1.0630,  ..., -0.9328, -0.8452, -0.7227],\n",
      "           [ 0.9755,  0.9930,  1.0455,  ..., -0.6877, -0.5826, -0.5126],\n",
      "           [ 0.9580,  0.9755,  1.0105,  ..., -0.7227, -0.6877, -0.5826]],\n",
      "\n",
      "          [[ 0.8099,  0.8099,  0.8274,  ...,  1.0017,  1.0017,  1.0017],\n",
      "           [ 0.8099,  0.8274,  0.7925,  ...,  0.9842,  0.9842,  0.9842],\n",
      "           [ 0.8099,  0.8099,  0.7925,  ...,  1.0017,  0.9842,  0.9842],\n",
      "           ...,\n",
      "           [ 1.1585,  1.1585,  1.2108,  ..., -0.6018, -0.5147, -0.4101],\n",
      "           [ 1.1237,  1.1411,  1.1934,  ..., -0.3578, -0.2881, -0.2184],\n",
      "           [ 1.1062,  1.1237,  1.1585,  ..., -0.4275, -0.3927, -0.3055]]]],\n",
      "\n",
      "\n",
      "\n",
      "        [[[[-1.1932, -1.1418, -1.0733,  ..., -0.7479, -0.5082, -0.4568],\n",
      "           [-1.2103, -1.1418, -1.0733,  ..., -0.7993, -0.5767, -0.4911],\n",
      "           [-1.2103, -1.1075, -1.0219,  ..., -0.7993, -0.5767, -0.4739],\n",
      "           ...,\n",
      "           [-0.7822, -0.7308, -0.7308,  ...,  2.2318,  2.1462,  1.4269],\n",
      "           [-0.7650, -0.8678, -0.8164,  ...,  2.2489,  1.9407,  1.1872],\n",
      "           [-0.8335, -0.9020, -1.0219,  ...,  2.1975,  1.3927,  1.3413]],\n",
      "\n",
      "          [[-1.1954, -1.1429, -1.0728,  ..., -1.1779, -0.9503, -0.9678],\n",
      "           [-1.2129, -1.1429, -1.0728,  ..., -1.2129, -1.0203, -0.9678],\n",
      "           [-1.2129, -1.1078, -1.0203,  ..., -1.1779, -0.9853, -0.9153],\n",
      "           ...,\n",
      "           [-1.6155, -1.5805, -1.4930,  ...,  2.1134,  2.0434,  1.2906],\n",
      "           [-1.4930, -1.5980, -1.5280,  ...,  2.1485,  1.8333,  1.0630],\n",
      "           [-1.4230, -1.4930, -1.6506,  ...,  2.0784,  1.2731,  1.2381]],\n",
      "\n",
      "          [[-0.8981, -0.8458, -0.7761,  ..., -0.9853, -0.7936, -0.8458],\n",
      "           [-0.9156, -0.8458, -0.7761,  ..., -1.0550, -0.8633, -0.8633],\n",
      "           [-0.9156, -0.8110, -0.7238,  ..., -1.0724, -0.8807, -0.8110],\n",
      "           ...,\n",
      "           [-1.3687, -1.3164, -1.2293,  ...,  2.0648,  1.9951,  1.2282],\n",
      "           [-1.2293, -1.3687, -1.2641,  ...,  2.0997,  1.7685,  1.0017],\n",
      "           [-1.1421, -1.2293, -1.3861,  ...,  1.9777,  1.1934,  1.2108]]]],\n",
      "\n",
      "\n",
      "\n",
      "        [[[[ 1.2557,  1.7865,  1.9920,  ..., -0.6794, -0.6281, -0.5596],\n",
      "           [ 1.0673,  1.5810,  1.6324,  ..., -0.6281, -0.5424, -0.5082],\n",
      "           [ 1.1358,  1.3927,  1.2899,  ..., -0.5253, -0.3369, -0.3198],\n",
      "           ...,\n",
      "           [-0.4226, -0.4226, -0.3883,  ...,  0.0227,  0.0227, -0.0116],\n",
      "           [-0.4568, -0.4397, -0.4054,  ...,  0.0056,  0.0398,  0.0056],\n",
      "           [-0.4397, -0.4397, -0.3712,  ...,  0.0569,  0.0056, -0.0458]],\n",
      "\n",
      "          [[ 0.2927,  0.8529,  1.2381,  ..., -1.0553, -1.0378, -1.0553],\n",
      "           [ 0.0301,  0.5903,  0.8179,  ..., -1.0378, -1.0203, -1.0553],\n",
      "           [ 0.0651,  0.3452,  0.4328,  ..., -1.0553, -0.9153, -0.9503],\n",
      "           ...,\n",
      "           [-0.8102, -0.8102, -0.8102,  ..., -0.4426, -0.4426, -0.4776],\n",
      "           [-0.8277, -0.8102, -0.8277,  ..., -0.4601, -0.4251, -0.4601],\n",
      "           [-0.8102, -0.8102, -0.8102,  ..., -0.4076, -0.4601, -0.5126]],\n",
      "\n",
      "          [[-0.5670,  0.0082,  0.2522,  ..., -0.9156, -0.8981, -0.9156],\n",
      "           [-0.7587, -0.2010, -0.1661,  ..., -0.8633, -0.8633, -0.9156],\n",
      "           [-0.6715, -0.4101, -0.5147,  ..., -0.9853, -0.8633, -0.9678],\n",
      "           ...,\n",
      "           [-0.7413, -0.7238, -0.6715,  ..., -0.3753, -0.3753, -0.4101],\n",
      "           [-0.7936, -0.7761, -0.7064,  ..., -0.3927, -0.3578, -0.3927],\n",
      "           [-0.7761, -0.7761, -0.7064,  ..., -0.3404, -0.3927, -0.4450]]]]]), 'resNet50CV': tensor([[[[[-1.5014, -1.4672, -1.3987,  ..., -1.7754, -1.8439, -1.5870],\n",
      "           [-1.5014, -1.4672, -1.4500,  ..., -1.7754, -1.8439, -1.5870],\n",
      "           [-1.5185, -1.4843, -1.4843,  ..., -1.7754, -1.8439, -1.5870],\n",
      "           ...,\n",
      "           [-1.8097, -1.7583, -1.1760,  ..., -0.9534, -1.0562, -1.2959],\n",
      "           [-1.8268, -1.7754, -1.2788,  ..., -0.9534, -1.1932, -1.5699],\n",
      "           [-1.8610, -1.7754, -1.4158,  ..., -1.0219, -1.3987, -1.7754]],\n",
      "\n",
      "          [[-1.1779, -1.1429, -1.1429,  ..., -1.6331, -1.7556, -1.5280],\n",
      "           [-1.1779, -1.1604, -1.1954,  ..., -1.6331, -1.7556, -1.5280],\n",
      "           [-1.1954, -1.1779, -1.2129,  ..., -1.6331, -1.7556, -1.5280],\n",
      "           ...,\n",
      "           [-1.8081, -1.8606, -1.4405,  ..., -1.2479, -1.2829, -1.4405],\n",
      "           [-1.8256, -1.8606, -1.5630,  ..., -1.2129, -1.3704, -1.6506],\n",
      "           [-1.8606, -1.8606, -1.7031,  ..., -1.2479, -1.5455, -1.8081]],\n",
      "\n",
      "          [[-0.8458, -0.8284, -0.8633,  ..., -1.2990, -1.4733, -1.2816],\n",
      "           [-0.8458, -0.8284, -0.8807,  ..., -1.2990, -1.4733, -1.2816],\n",
      "           [-0.8633, -0.8458, -0.8807,  ..., -1.2990, -1.4733, -1.2816],\n",
      "           ...,\n",
      "           [-1.6302, -1.6650, -1.3513,  ..., -1.2293, -1.2293, -1.3687],\n",
      "           [-1.6476, -1.6650, -1.4733,  ..., -1.1596, -1.2816, -1.5430],\n",
      "           [-1.6824, -1.6650, -1.5953,  ..., -1.1770, -1.4384, -1.6650]]]],\n",
      "\n",
      "\n",
      "\n",
      "        [[[[-0.3027, -0.2513, -0.1828,  ..., -0.5082, -0.5253, -0.5938],\n",
      "           [-0.4054, -0.4226, -0.4568,  ..., -0.7137, -0.6794, -0.7308],\n",
      "           [-0.5253, -0.5424, -0.6281,  ..., -0.6794, -0.4911, -0.6452],\n",
      "           ...,\n",
      "           [-0.5596, -0.5596, -0.5596,  ...,  2.1290,  2.1462,  2.1462],\n",
      "           [-0.6452, -0.6109, -0.6109,  ...,  2.1290,  2.1462,  2.1462],\n",
      "           [-0.6965, -0.6794, -0.6623,  ...,  2.1290,  2.1462,  2.1462]],\n",
      "\n",
      "          [[-0.1975, -0.1450,  0.0301,  ..., -0.3550, -0.3375, -0.4601],\n",
      "           [-0.3200, -0.2500, -0.1450,  ..., -0.5651, -0.5301, -0.6527],\n",
      "           [-0.3025, -0.1975, -0.1975,  ..., -0.5126, -0.3375, -0.5651],\n",
      "           ...,\n",
      "           [ 0.1176,  0.1176,  0.1176,  ...,  2.2885,  2.3060,  2.3060],\n",
      "           [ 0.0651,  0.1001,  0.1001,  ...,  2.2885,  2.3060,  2.3060],\n",
      "           [ 0.0476,  0.0651,  0.0826,  ...,  2.2885,  2.3060,  2.3060]],\n",
      "\n",
      "          [[-0.1138, -0.0441,  0.2522,  ..., -0.0964, -0.0790, -0.2532],\n",
      "           [-0.2532, -0.0441,  0.3219,  ..., -0.3055, -0.2707, -0.4450],\n",
      "           [-0.0267,  0.2871,  0.5311,  ..., -0.2532, -0.0790, -0.3578],\n",
      "           ...,\n",
      "           [ 0.8971,  0.8797,  0.8797,  ...,  2.4308,  2.4483,  2.4483],\n",
      "           [ 0.8448,  0.8448,  0.8622,  ...,  2.4308,  2.4483,  2.4483],\n",
      "           [ 0.8099,  0.8099,  0.8274,  ...,  2.4308,  2.4483,  2.4483]]]],\n",
      "\n",
      "\n",
      "\n",
      "        [[[[ 0.7077,  0.7077,  0.7077,  ...,  0.9646,  0.9646,  0.9646],\n",
      "           [ 0.7077,  0.7248,  0.6734,  ...,  0.9474,  0.9474,  0.9474],\n",
      "           [ 0.7077,  0.7077,  0.6734,  ...,  0.9646,  0.9474,  0.9474],\n",
      "           ...,\n",
      "           [ 0.9474,  0.9474,  0.9988,  ..., -0.8507, -0.7650, -0.6452],\n",
      "           [ 0.9132,  0.9303,  0.9817,  ..., -0.6109, -0.5082, -0.4397],\n",
      "           [ 0.8961,  0.9132,  0.9474,  ..., -0.6452, -0.6109, -0.5253]],\n",
      "\n",
      "          [[ 0.6604,  0.6604,  0.6779,  ...,  0.9405,  0.9405,  0.9405],\n",
      "           [ 0.6604,  0.6779,  0.6604,  ...,  0.9230,  0.9230,  0.9230],\n",
      "           [ 0.6604,  0.6604,  0.6604,  ...,  0.9405,  0.9230,  0.9230],\n",
      "           ...,\n",
      "           [ 1.0105,  1.0105,  1.0630,  ..., -0.9328, -0.8452, -0.7227],\n",
      "           [ 0.9755,  0.9930,  1.0455,  ..., -0.6877, -0.5826, -0.5126],\n",
      "           [ 0.9580,  0.9755,  1.0105,  ..., -0.7227, -0.6877, -0.5826]],\n",
      "\n",
      "          [[ 0.8099,  0.8099,  0.8274,  ...,  1.0017,  1.0017,  1.0017],\n",
      "           [ 0.8099,  0.8274,  0.7925,  ...,  0.9842,  0.9842,  0.9842],\n",
      "           [ 0.8099,  0.8099,  0.7925,  ...,  1.0017,  0.9842,  0.9842],\n",
      "           ...,\n",
      "           [ 1.1585,  1.1585,  1.2108,  ..., -0.6018, -0.5147, -0.4101],\n",
      "           [ 1.1237,  1.1411,  1.1934,  ..., -0.3578, -0.2881, -0.2184],\n",
      "           [ 1.1062,  1.1237,  1.1585,  ..., -0.4275, -0.3927, -0.3055]]]],\n",
      "\n",
      "\n",
      "\n",
      "        [[[[-1.1932, -1.1418, -1.0733,  ..., -0.7479, -0.5082, -0.4568],\n",
      "           [-1.2103, -1.1418, -1.0733,  ..., -0.7993, -0.5767, -0.4911],\n",
      "           [-1.2103, -1.1075, -1.0219,  ..., -0.7993, -0.5767, -0.4739],\n",
      "           ...,\n",
      "           [-0.7822, -0.7308, -0.7308,  ...,  2.2318,  2.1462,  1.4269],\n",
      "           [-0.7650, -0.8678, -0.8164,  ...,  2.2489,  1.9407,  1.1872],\n",
      "           [-0.8335, -0.9020, -1.0219,  ...,  2.1975,  1.3927,  1.3413]],\n",
      "\n",
      "          [[-1.1954, -1.1429, -1.0728,  ..., -1.1779, -0.9503, -0.9678],\n",
      "           [-1.2129, -1.1429, -1.0728,  ..., -1.2129, -1.0203, -0.9678],\n",
      "           [-1.2129, -1.1078, -1.0203,  ..., -1.1779, -0.9853, -0.9153],\n",
      "           ...,\n",
      "           [-1.6155, -1.5805, -1.4930,  ...,  2.1134,  2.0434,  1.2906],\n",
      "           [-1.4930, -1.5980, -1.5280,  ...,  2.1485,  1.8333,  1.0630],\n",
      "           [-1.4230, -1.4930, -1.6506,  ...,  2.0784,  1.2731,  1.2381]],\n",
      "\n",
      "          [[-0.8981, -0.8458, -0.7761,  ..., -0.9853, -0.7936, -0.8458],\n",
      "           [-0.9156, -0.8458, -0.7761,  ..., -1.0550, -0.8633, -0.8633],\n",
      "           [-0.9156, -0.8110, -0.7238,  ..., -1.0724, -0.8807, -0.8110],\n",
      "           ...,\n",
      "           [-1.3687, -1.3164, -1.2293,  ...,  2.0648,  1.9951,  1.2282],\n",
      "           [-1.2293, -1.3687, -1.2641,  ...,  2.0997,  1.7685,  1.0017],\n",
      "           [-1.1421, -1.2293, -1.3861,  ...,  1.9777,  1.1934,  1.2108]]]],\n",
      "\n",
      "\n",
      "\n",
      "        [[[[ 1.2557,  1.7865,  1.9920,  ..., -0.6794, -0.6281, -0.5596],\n",
      "           [ 1.0673,  1.5810,  1.6324,  ..., -0.6281, -0.5424, -0.5082],\n",
      "           [ 1.1358,  1.3927,  1.2899,  ..., -0.5253, -0.3369, -0.3198],\n",
      "           ...,\n",
      "           [-0.4226, -0.4226, -0.3883,  ...,  0.0227,  0.0227, -0.0116],\n",
      "           [-0.4568, -0.4397, -0.4054,  ...,  0.0056,  0.0398,  0.0056],\n",
      "           [-0.4397, -0.4397, -0.3712,  ...,  0.0569,  0.0056, -0.0458]],\n",
      "\n",
      "          [[ 0.2927,  0.8529,  1.2381,  ..., -1.0553, -1.0378, -1.0553],\n",
      "           [ 0.0301,  0.5903,  0.8179,  ..., -1.0378, -1.0203, -1.0553],\n",
      "           [ 0.0651,  0.3452,  0.4328,  ..., -1.0553, -0.9153, -0.9503],\n",
      "           ...,\n",
      "           [-0.8102, -0.8102, -0.8102,  ..., -0.4426, -0.4426, -0.4776],\n",
      "           [-0.8277, -0.8102, -0.8277,  ..., -0.4601, -0.4251, -0.4601],\n",
      "           [-0.8102, -0.8102, -0.8102,  ..., -0.4076, -0.4601, -0.5126]],\n",
      "\n",
      "          [[-0.5670,  0.0082,  0.2522,  ..., -0.9156, -0.8981, -0.9156],\n",
      "           [-0.7587, -0.2010, -0.1661,  ..., -0.8633, -0.8633, -0.9156],\n",
      "           [-0.6715, -0.4101, -0.5147,  ..., -0.9853, -0.8633, -0.9678],\n",
      "           ...,\n",
      "           [-0.7413, -0.7238, -0.6715,  ..., -0.3753, -0.3753, -0.4101],\n",
      "           [-0.7936, -0.7761, -0.7064,  ..., -0.3927, -0.3578, -0.3927],\n",
      "           [-0.7761, -0.7761, -0.7064,  ..., -0.3404, -0.3927, -0.4450]]]]]), 'vitRater': tensor([[[[[-0.7020, -0.7020, -0.7020,  ..., -0.4275, -0.3569, -0.2941],\n",
      "           [-0.7020, -0.7020, -0.7020,  ..., -0.3333, -0.3255, -0.3569],\n",
      "           [-0.7020, -0.7020, -0.7020,  ..., -0.2235, -0.0980,  0.0745],\n",
      "           ...,\n",
      "           [-0.7412, -0.7490, -0.7569,  ..., -0.3176, -0.3255, -0.3255],\n",
      "           [-0.7176, -0.7255, -0.7255,  ..., -0.4039, -0.3804, -0.3412],\n",
      "           [-0.6863, -0.7020, -0.7098,  ..., -0.3255, -0.2471, -0.2000]],\n",
      "\n",
      "          [[-0.7333, -0.7333, -0.7333,  ..., -0.4118, -0.3333, -0.2941],\n",
      "           [-0.7333, -0.7333, -0.7333,  ..., -0.3647, -0.3647, -0.4039],\n",
      "           [-0.7333, -0.7333, -0.7333,  ..., -0.3176, -0.2000, -0.0275],\n",
      "           ...,\n",
      "           [-0.8118, -0.8196, -0.8275,  ..., -0.4745, -0.4824, -0.4745],\n",
      "           [-0.7882, -0.7961, -0.7961,  ..., -0.5216, -0.4902, -0.4588],\n",
      "           [-0.7569, -0.7725, -0.7804,  ..., -0.4431, -0.3647, -0.3255]],\n",
      "\n",
      "          [[-0.7255, -0.7255, -0.7255,  ..., -0.3804, -0.3098, -0.2549],\n",
      "           [-0.7255, -0.7255, -0.7255,  ..., -0.3725, -0.3804, -0.4275],\n",
      "           [-0.7255, -0.7255, -0.7255,  ..., -0.3647, -0.2471, -0.1059],\n",
      "           ...,\n",
      "           [-0.8824, -0.8902, -0.8980,  ..., -0.6000, -0.6078, -0.6078],\n",
      "           [-0.8588, -0.8667, -0.8667,  ..., -0.6078, -0.5765, -0.5451],\n",
      "           [-0.8039, -0.8196, -0.8353,  ..., -0.5294, -0.4510, -0.4039]]]],\n",
      "\n",
      "\n",
      "\n",
      "        [[[[-0.1922, -0.1922, -0.1843,  ...,  0.2078,  0.2078,  0.2078],\n",
      "           [-0.1843, -0.1843, -0.1765,  ...,  0.2157,  0.2157,  0.2157],\n",
      "           [-0.1686, -0.1608, -0.1608,  ...,  0.2235,  0.2235,  0.2235],\n",
      "           ...,\n",
      "           [ 0.6941,  0.7098,  0.7255,  ...,  0.0667, -0.0353, -0.0667],\n",
      "           [ 0.6863,  0.6941,  0.7020,  ...,  0.6314,  0.3725,  0.1843],\n",
      "           [ 0.6784,  0.6784,  0.6784,  ...,  0.7647,  0.7255,  0.4431]],\n",
      "\n",
      "          [[ 0.1608,  0.1608,  0.1686,  ...,  0.4510,  0.4510,  0.4510],\n",
      "           [ 0.1686,  0.1686,  0.1765,  ...,  0.4588,  0.4588,  0.4588],\n",
      "           [ 0.1686,  0.1765,  0.1843,  ...,  0.4588,  0.4588,  0.4588],\n",
      "           ...,\n",
      "           [ 0.7176,  0.7333,  0.7490,  ...,  0.2078,  0.1137,  0.0745],\n",
      "           [ 0.7176,  0.7255,  0.7333,  ...,  0.6863,  0.4431,  0.2863],\n",
      "           [ 0.7098,  0.7098,  0.7098,  ...,  0.7961,  0.7725,  0.4980]],\n",
      "\n",
      "          [[ 0.4902,  0.4902,  0.4980,  ...,  0.6784,  0.6784,  0.6784],\n",
      "           [ 0.4980,  0.4980,  0.5059,  ...,  0.6863,  0.6863,  0.6863],\n",
      "           [ 0.4980,  0.5059,  0.5137,  ...,  0.6863,  0.6863,  0.6863],\n",
      "           ...,\n",
      "           [ 0.7176,  0.7333,  0.7490,  ...,  0.3412,  0.2706,  0.2392],\n",
      "           [ 0.7255,  0.7333,  0.7412,  ...,  0.7176,  0.5373,  0.3804],\n",
      "           [ 0.7176,  0.7176,  0.7176,  ...,  0.7725,  0.7647,  0.5529]]]],\n",
      "\n",
      "\n",
      "\n",
      "        [[[[ 0.2157,  0.2235,  0.2314,  ...,  0.3020,  0.3020,  0.3098],\n",
      "           [ 0.2235,  0.2314,  0.2392,  ...,  0.3098,  0.3098,  0.3098],\n",
      "           [ 0.2392,  0.2392,  0.2471,  ...,  0.3098,  0.3098,  0.3098],\n",
      "           ...,\n",
      "           [-0.2235, -0.2314, -0.2235,  ..., -0.2314, -0.2314, -0.2314],\n",
      "           [-0.2157, -0.2157, -0.1922,  ..., -0.2314, -0.2314, -0.2471],\n",
      "           [-0.1922, -0.1686, -0.1451,  ..., -0.2314, -0.2392, -0.2392]],\n",
      "\n",
      "          [[ 0.0980,  0.1059,  0.1137,  ...,  0.2000,  0.2000,  0.2078],\n",
      "           [ 0.1059,  0.1137,  0.1216,  ...,  0.2078,  0.2078,  0.2078],\n",
      "           [ 0.1216,  0.1216,  0.1294,  ...,  0.2078,  0.2078,  0.2078],\n",
      "           ...,\n",
      "           [-0.3020, -0.3098, -0.3020,  ..., -0.3098, -0.3098, -0.3098],\n",
      "           [-0.2941, -0.2941, -0.2706,  ..., -0.3098, -0.3098, -0.3255],\n",
      "           [-0.2706, -0.2471, -0.2235,  ..., -0.3098, -0.3176, -0.3176]],\n",
      "\n",
      "          [[ 0.0745,  0.0824,  0.0902,  ...,  0.1373,  0.1373,  0.1451],\n",
      "           [ 0.0824,  0.0902,  0.0980,  ...,  0.1451,  0.1451,  0.1451],\n",
      "           [ 0.0980,  0.0980,  0.1059,  ...,  0.1451,  0.1451,  0.1451],\n",
      "           ...,\n",
      "           [-0.2941, -0.3020, -0.2941,  ..., -0.3020, -0.3020, -0.3020],\n",
      "           [-0.2863, -0.2863, -0.2627,  ..., -0.3020, -0.3020, -0.3176],\n",
      "           [-0.2627, -0.2392, -0.2157,  ..., -0.3020, -0.3098, -0.3098]]]],\n",
      "\n",
      "\n",
      "\n",
      "        [[[[-0.7412, -0.7412, -0.7412,  ..., -0.5765, -0.5686, -0.5686],\n",
      "           [-0.7412, -0.7412, -0.7333,  ..., -0.5608, -0.5608, -0.5608],\n",
      "           [-0.8196, -0.8196, -0.7961,  ..., -0.5529, -0.5529, -0.5529],\n",
      "           ...,\n",
      "           [-0.7098, -0.4510, -0.2863,  ..., -0.3333, -0.3333, -0.3412],\n",
      "           [-0.4588,  0.2235,  0.4824,  ..., -0.3333, -0.3333, -0.3412],\n",
      "           [-0.5294,  0.3569,  0.5843,  ..., -0.3333, -0.3333, -0.3412]],\n",
      "\n",
      "          [[-0.8196, -0.8196, -0.8196,  ..., -0.6941, -0.6863, -0.6863],\n",
      "           [-0.8196, -0.8196, -0.8118,  ..., -0.6784, -0.6784, -0.6784],\n",
      "           [-0.8980, -0.8980, -0.8745,  ..., -0.6706, -0.6706, -0.6706],\n",
      "           ...,\n",
      "           [-0.8039, -0.7333, -0.7725,  ..., -0.3647, -0.3647, -0.3725],\n",
      "           [-0.8745, -0.4902, -0.4667,  ..., -0.3647, -0.3647, -0.3725],\n",
      "           [-0.9137, -0.5137, -0.4275,  ..., -0.3647, -0.3647, -0.3725]],\n",
      "\n",
      "          [[-0.8118, -0.8118, -0.8118,  ..., -0.6706, -0.6627, -0.6627],\n",
      "           [-0.8118, -0.8118, -0.8039,  ..., -0.6549, -0.6549, -0.6549],\n",
      "           [-0.8902, -0.8902, -0.8667,  ..., -0.6471, -0.6471, -0.6471],\n",
      "           ...,\n",
      "           [-0.8353, -0.7804, -0.8118,  ..., -0.2471, -0.2471, -0.2549],\n",
      "           [-0.8980, -0.5686, -0.5922,  ..., -0.2471, -0.2471, -0.2549],\n",
      "           [-0.9216, -0.6157, -0.5922,  ..., -0.2471, -0.2471, -0.2549]]]],\n",
      "\n",
      "\n",
      "\n",
      "        [[[[ 0.4353,  0.6627,  0.7412,  ...,  0.1059,  0.3255,  0.2706],\n",
      "           [ 0.2706,  0.5451,  0.8196,  ...,  0.3176,  0.6941,  0.6000],\n",
      "           [ 0.1294,  0.3882,  0.7725,  ...,  0.3961,  0.7098,  0.8118],\n",
      "           ...,\n",
      "           [-0.9137, -0.9216, -0.9294,  ..., -0.9294, -0.9216, -0.9137],\n",
      "           [-0.8980, -0.9059, -0.9137,  ..., -0.9216, -0.9059, -0.9137],\n",
      "           [-0.9059, -0.9137, -0.9216,  ..., -0.9216, -0.9059, -0.9137]],\n",
      "\n",
      "          [[-0.3490, -0.0510,  0.0745,  ..., -0.5922, -0.4588, -0.5216],\n",
      "           [-0.4431, -0.1373,  0.1608,  ..., -0.3961, -0.0902, -0.1765],\n",
      "           [-0.4980, -0.2627,  0.0902,  ..., -0.3961, -0.1137,  0.0039],\n",
      "           ...,\n",
      "           [-0.9216, -0.9294, -0.9373,  ..., -0.9216, -0.9373, -0.9294],\n",
      "           [-0.9294, -0.9373, -0.9373,  ..., -0.9059, -0.9216, -0.9137],\n",
      "           [-0.9216, -0.9294, -0.9373,  ..., -0.9059, -0.9059, -0.9059]],\n",
      "\n",
      "          [[-0.8431, -0.6627, -0.6706,  ..., -0.8118, -0.7647, -0.8588],\n",
      "           [-0.8745, -0.7020, -0.5686,  ..., -0.8667, -0.6941, -0.7647],\n",
      "           [-0.8588, -0.7647, -0.6078,  ..., -0.9059, -0.8039, -0.7020],\n",
      "           ...,\n",
      "           [-0.9373, -0.9451, -0.9529,  ..., -0.8980, -0.8902, -0.8902],\n",
      "           [-0.9373, -0.9451, -0.9529,  ..., -0.8667, -0.8667, -0.8745],\n",
      "           [-0.9373, -0.9451, -0.9529,  ..., -0.8588, -0.8667, -0.8667]]]]]), 'promptBert': {'input_ids': tensor([[[  101,  8840,  2527,  ...,     0,     0,     0]],\n",
      "\n",
      "        [[  101,  1040,  2615,  ...,     0,     0,     0]],\n",
      "\n",
      "        [[  101,  3556,  1035,  ...,     0,     0,     0]],\n",
      "\n",
      "        [[  101, 24978,  2546,  ...,     0,     0,     0]],\n",
      "\n",
      "        [[  101,  1015, 10768,  ...,     0,     0,     0]]]), 'attention_mask': tensor([[[1, 1, 1,  ..., 0, 0, 0]],\n",
      "\n",
      "        [[1, 1, 1,  ..., 0, 0, 0]],\n",
      "\n",
      "        [[1, 1, 1,  ..., 0, 0, 0]],\n",
      "\n",
      "        [[1, 1, 1,  ..., 0, 0, 0]],\n",
      "\n",
      "        [[1, 1, 1,  ..., 0, 0, 0]]])}, 'promptRoberta': {'input_ids': tensor([[[    0, 10159,   102,  ...,     1,     1,     1]],\n",
      "\n",
      "        [[    0,   495,   846,  ...,     1,     1,     1]],\n",
      "\n",
      "        [[    0, 31673,  1215,  ...,     1,     1,     1]],\n",
      "\n",
      "        [[    0,  6852, 44860,  ...,     1,     1,     1]],\n",
      "\n",
      "        [[    0,   134, 24295,  ...,     1,     1,     1]]]), 'attention_mask': tensor([[[1, 1, 1,  ..., 0, 0, 0]],\n",
      "\n",
      "        [[1, 1, 1,  ..., 0, 0, 0]],\n",
      "\n",
      "        [[1, 1, 1,  ..., 0, 0, 0]],\n",
      "\n",
      "        [[1, 1, 1,  ..., 0, 0, 0]],\n",
      "\n",
      "        [[1, 1, 1,  ..., 0, 0, 0]]])}, 'promptTagBert': {'input_ids': tensor([[[  101,  8840,  2527,  ...,     0,     0,     0]],\n",
      "\n",
      "        [[  101,  1040,  2615,  ...,     0,     0,     0]],\n",
      "\n",
      "        [[  101,  3556,  1035,  ...,     0,     0,     0]],\n",
      "\n",
      "        [[  101, 24978,  2546,  ...,     0,     0,     0]],\n",
      "\n",
      "        [[  101,  1015, 10768,  ...,     0,     0,     0]]]), 'attention_mask': tensor([[[1, 1, 1,  ..., 0, 0, 0]],\n",
      "\n",
      "        [[1, 1, 1,  ..., 0, 0, 0]],\n",
      "\n",
      "        [[1, 1, 1,  ..., 0, 0, 0]],\n",
      "\n",
      "        [[1, 1, 1,  ..., 0, 0, 0]],\n",
      "\n",
      "        [[1, 1, 1,  ..., 0, 0, 0]]])}, 'label': tensor([3, 0, 2, 3, 4])}\n",
      "dict_keys(['baseresNet18', 'baseresNet50', 'june_yolo_cls', 'resNet18CV', 'resNet50CV', 'vitRater', 'promptBert', 'promptRoberta', 'promptTagBert', 'label'])\n"
     ]
    }
   ],
   "source": [
    "for batch in train_dataloader:\n",
    "    print(batch)\n",
    "    print(batch.keys())\n",
    "    break"
   ]
  },
  {
   "cell_type": "markdown",
   "metadata": {},
   "source": [
    "## Model"
   ]
  },
  {
   "cell_type": "code",
   "execution_count": 15,
   "metadata": {},
   "outputs": [],
   "source": [
    "class MultimodalModel(PreTrainedModel):\n",
    "    config_class = MultimodalConfig\n",
    "\n",
    "    def __init__(self, config: MultimodalConfig, device = torch.device(\"cuda\" if torch.cuda.is_available() else 'cpu')):\n",
    "        super().__init__(config)\n",
    "        self.num_classes = 5  # Example with 5 classes\n",
    "        self.features = {}\n",
    "\n",
    "        # Initialize the models and set requires_grad = False to freeze them\n",
    "        self.resnet_models = nn.ModuleDict()\n",
    "        if config.resnet_model_paths:\n",
    "            for model_id, model_path in config.resnet_model_paths.items():\n",
    "                ##Load model architecture\n",
    "                model = models.resnet50() if \"resnet50\" in model_id.lower() else models.resnet18()\n",
    "                prev_fc = model.fc\n",
    "                model.fc = nn.Linear(model.fc.in_features, self.num_classes)\n",
    "                ##Load weights\n",
    "                model.load_state_dict(torch.load(f\"{model_path}/best_model_params.pt\", map_location='cpu'))\n",
    "                model.fc = prev_fc\n",
    "                ##set output to identity to return layer before prediction\n",
    "                model.fc = nn.Identity()\n",
    "                ##freeze model\n",
    "                for param in model.parameters(): \n",
    "                    param.requires_grad = False\n",
    "                model.to(device)\n",
    "                ##add model to model dict\n",
    "                self.resnet_models[model_id] = model\n",
    "                ##store number of features\n",
    "                self.features[model_id] = prev_fc.in_features\n",
    "\n",
    "        self.vit_models = nn.ModuleDict()\n",
    "        if config.vit_model_paths:\n",
    "            for model_id, model_path in config.vit_model_paths.items():\n",
    "                model = ViTForImageClassification.from_pretrained(model_path)\n",
    "                for param in model.parameters():\n",
    "                    param.requires_grad = False\n",
    "                model.to(device)\n",
    "                self.vit_models[model_id] = model\n",
    "                self.features[model_id] = model.classifier.in_features\n",
    "\n",
    "        self.yolo_models = nn.ModuleDict()\n",
    "        if config.yolo_model_paths:\n",
    "            for model_id, model_path in config.yolo_model_paths.items():\n",
    "                if 'cls' in model_id:\n",
    "                    model = YOLO(os.path.join(model_path, 'best_model_params.pt'))\n",
    "                    sequential_model = model.model.model\n",
    "                    self.features[model_id] = sequential_model[-1].linear.in_features\n",
    "                    \n",
    "                    self.replace_yolo_last_linear_with_identity(sequential_model)\n",
    "                    for param in sequential_model.parameters():\n",
    "                        param.requires_grad = False\n",
    "                    model.to(device)                        \n",
    "                    self.yolo_models[model_id] = sequential_model\n",
    "\n",
    "                elif 'det' in model_id:\n",
    "                    model = YOLO(os.path.join(model_path, 'best_model_params.pt'))\n",
    "                    model.to(device)\n",
    "                    self.yolo_models[model_id] = model\n",
    "                    self.features[model_id] = None\n",
    "                    \n",
    "        self.nlp_transformers_models = nn.ModuleDict()\n",
    "        if config.nlp_transformers_model_paths:\n",
    "            for model_id, model_path in config.nlp_transformers_model_paths.items():\n",
    "                model = AutoModelForSequenceClassification.from_pretrained(model_path)\n",
    "                for param in model.parameters():\n",
    "                    param.requires_grad = False\n",
    "                model.to(device)\n",
    "                self.nlp_transformers_models[model_id] = model\n",
    "                self.features[model_id] = self.get_classifier_in_features(model)\n",
    "\n",
    "        # MLP layers (only this part will be fine-tuned)\n",
    "        self.mlp = nn.Sequential(\n",
    "            nn.Linear(sum(self.features.values()), 1024),\n",
    "            nn.ReLU(),\n",
    "            nn.Dropout(0.5),\n",
    "            nn.Linear(1024, 512),\n",
    "            nn.ReLU(),\n",
    "            nn.Dropout(0.5),\n",
    "            nn.Linear(512, 256),\n",
    "            nn.ReLU(),\n",
    "            nn.Dropout(0.3),\n",
    "            nn.Linear(256, config.num_labels)\n",
    "        )\n",
    "        self.loss_fn = nn.CrossEntropyLoss()\n",
    "\n",
    "    def get_classifier_in_features(self, model):\n",
    "        \"\"\"\n",
    "        Function to get the number of input features to the classifier layer.\n",
    "        Handles different model structures such as BERT and RoBERTa.\n",
    "        \"\"\"\n",
    "        try:\n",
    "            # RoBERTa's classifier\n",
    "            return model.classifier.out_proj.in_features\n",
    "        except AttributeError:\n",
    "            pass\n",
    "\n",
    "        try:\n",
    "            # BERT's classifier\n",
    "            return model.classifier.linear.in_features\n",
    "        except AttributeError:\n",
    "            pass\n",
    "\n",
    "        try:\n",
    "            # DistilBERT's classifier\n",
    "            return model.classifier.in_features\n",
    "        except AttributeError:\n",
    "            pass\n",
    "\n",
    "        try: \n",
    "            #ViT's classifier\n",
    "            return model.classifier.in_features\n",
    "        except AttributeError:\n",
    "            pass\n",
    "\n",
    "        try: \n",
    "            return model.fc.in_features\n",
    "        except AttributeError:\n",
    "            pass\n",
    "\n",
    "        # Add other model types as needed\n",
    "        raise ValueError(\"Unknown model structure or unsupported model type.\")\n",
    "    \n",
    "    def forward(self, **inputs):\n",
    "        \n",
    "        self.mlp = self.mlp.to(self.device)\n",
    "        features = []        \n",
    "        labels = inputs.pop('label', None)\n",
    "\n",
    "        for key in inputs.keys():\n",
    "            input = inputs[key]\n",
    "            \n",
    "            if key in self.resnet_models.keys():\n",
    "                with torch.no_grad():\n",
    "                    resnet_features = self.resnet_models[key](input.squeeze(1).to(self.device))\n",
    "                features.append(resnet_features)\n",
    "            \n",
    "            if key in self.vit_models.keys():\n",
    "                with torch.no_grad():\n",
    "                    vit_features = self.vit_models[key](pixel_values=input.squeeze(1).to(self.device),\n",
    "                                            output_hidden_states=True).hidden_states[-1][:, 0, :]\n",
    "                features.append(vit_features)\n",
    "\n",
    "            if key in self.yolo_models.keys():\n",
    "                with torch.no_grad():\n",
    "                    yolo_features = self.yolo_models[key](input.to(self.device))\n",
    "                features.append(yolo_features)\n",
    "            \n",
    "            if key in self.nlp_transformers_models.keys():\n",
    "                with torch.no_grad():\n",
    "                    nlp_features = self.nlp_transformers_models[key](input['input_ids'].squeeze(1).to(self.device),\n",
    "                    input['attention_mask'].squeeze(1).to(self.device),\n",
    "                    output_hidden_states=True).hidden_states[-1][:, 0, :]\n",
    "                features.append(nlp_features)\n",
    "            \n",
    "        ##Concat features\n",
    "        features = torch.cat(features, dim=1)\n",
    "        logits = self.mlp(features)\n",
    "\n",
    "        loss = None\n",
    "        if labels is not None:\n",
    "            loss = self.loss_fn(logits.view(-1, self.config.num_labels), labels.view(-1))\n",
    "\n",
    "        return {\"loss\": loss, \"logits\": logits} if loss is not None else {\"logits\": logits}\n",
    "\n",
    "    @staticmethod\n",
    "    def replace_yolo_last_linear_with_identity(model):\n",
    "        for name, module in model.named_modules():\n",
    "            if isinstance(module, nn.Linear):\n",
    "                parent_name, child_name = name.rsplit('.',1)\n",
    "                parent = model\n",
    "                for part in parent_name.split('.'):\n",
    "                    parent = getattr(parent, part)\n",
    "                setattr(parent, child_name, nn.Identity())\n",
    "                return True\n",
    "        return False"
   ]
  },
  {
   "cell_type": "code",
   "execution_count": 16,
   "metadata": {},
   "outputs": [],
   "source": [
    "model = MultimodalModel(config)"
   ]
  },
  {
   "cell_type": "markdown",
   "metadata": {},
   "source": [
    "## Check Training"
   ]
  },
  {
   "cell_type": "code",
   "execution_count": 17,
   "metadata": {},
   "outputs": [],
   "source": [
    "optimizer = torch.optim.AdamW(model.mlp.parameters(), lr=5e-5)\n",
    "loss_fn = nn.CrossEntropyLoss()"
   ]
  },
  {
   "cell_type": "code",
   "execution_count": 18,
   "metadata": {},
   "outputs": [],
   "source": [
    "from transformers import TrainingArguments\n",
    "from transformers import Trainer\n"
   ]
  },
  {
   "cell_type": "code",
   "execution_count": 19,
   "metadata": {},
   "outputs": [
    {
     "name": "stderr",
     "output_type": "stream",
     "text": [
      "c:\\Users\\wolfg\\OneDrive\\Documents\\CivitAI\\Project Work\\research\\multimodalCheck\\venv\\Lib\\site-packages\\transformers\\training_args.py:1494: FutureWarning: `evaluation_strategy` is deprecated and will be removed in version 4.46 of 🤗 Transformers. Use `eval_strategy` instead\n",
      "  warnings.warn(\n"
     ]
    }
   ],
   "source": [
    "\n",
    "training_args = TrainingArguments(\n",
    "    output_dir='./results',          # output directory\n",
    "    num_train_epochs=2,\n",
    "    per_device_train_batch_size=32,\n",
    "    per_device_eval_batch_size=8,\n",
    "    warmup_steps=500,                # number of warmup steps for learning rate scheduler\n",
    "    weight_decay=0.01,               # strength of weight decay\n",
    "    logging_dir='./logs',            # directory for storing logs\n",
    "    logging_steps=10,\n",
    "    evaluation_strategy=\"steps\",\n",
    "    eval_steps=500,\n",
    "    save_steps=500,\n",
    "    load_best_model_at_end=True,\n",
    "    fp16=True,                       # Enable mixed precision training\n",
    ")\n"
   ]
  },
  {
   "cell_type": "code",
   "execution_count": 20,
   "metadata": {},
   "outputs": [],
   "source": [
    "\n",
    "trainer = Trainer(\n",
    "    model=model,\n",
    "    args=training_args,\n",
    "    train_dataset=training_data,\n",
    "    eval_dataset=validation_data,\n",
    "    data_collator=custom_collator\n",
    ")\n"
   ]
  },
  {
   "cell_type": "code",
   "execution_count": 21,
   "metadata": {},
   "outputs": [
    {
     "name": "stderr",
     "output_type": "stream",
     "text": [
      "  0%|          | 0/1336 [00:00<?, ?it/s]c:\\Users\\wolfg\\OneDrive\\Documents\\CivitAI\\Project Work\\research\\multimodalCheck\\venv\\Lib\\site-packages\\transformers\\models\\vit\\modeling_vit.py:252: UserWarning: 1Torch was not compiled with flash attention. (Triggered internally at ..\\aten\\src\\ATen\\native\\transformers\\cuda\\sdp_utils.cpp:455.)\n",
      "  context_layer = torch.nn.functional.scaled_dot_product_attention(\n",
      "Could not estimate the number of tokens of the input, floating-point operations will not be computed\n",
      "  1%|          | 10/1336 [00:20<43:54,  1.99s/it] "
     ]
    },
    {
     "name": "stdout",
     "output_type": "stream",
     "text": [
      "{'loss': 1.6145, 'grad_norm': 4.832340717315674, 'learning_rate': 1.0000000000000002e-06, 'epoch': 0.01}\n"
     ]
    },
    {
     "name": "stderr",
     "output_type": "stream",
     "text": [
      "  1%|▏         | 20/1336 [00:40<44:54,  2.05s/it]"
     ]
    },
    {
     "name": "stdout",
     "output_type": "stream",
     "text": [
      "{'loss': 1.616, 'grad_norm': 5.274162769317627, 'learning_rate': 2.0000000000000003e-06, 'epoch': 0.03}\n"
     ]
    },
    {
     "name": "stderr",
     "output_type": "stream",
     "text": [
      "  2%|▏         | 30/1336 [01:00<43:38,  2.00s/it]"
     ]
    },
    {
     "name": "stdout",
     "output_type": "stream",
     "text": [
      "{'loss': 1.6158, 'grad_norm': 5.208268642425537, 'learning_rate': 3e-06, 'epoch': 0.04}\n"
     ]
    },
    {
     "name": "stderr",
     "output_type": "stream",
     "text": [
      "  3%|▎         | 40/1336 [01:20<41:56,  1.94s/it]"
     ]
    },
    {
     "name": "stdout",
     "output_type": "stream",
     "text": [
      "{'loss': 1.5823, 'grad_norm': 5.470309734344482, 'learning_rate': 4.000000000000001e-06, 'epoch': 0.06}\n"
     ]
    },
    {
     "name": "stderr",
     "output_type": "stream",
     "text": [
      "  4%|▎         | 50/1336 [01:40<43:56,  2.05s/it]"
     ]
    },
    {
     "name": "stdout",
     "output_type": "stream",
     "text": [
      "{'loss': 1.5534, 'grad_norm': 4.865787506103516, 'learning_rate': 5e-06, 'epoch': 0.07}\n"
     ]
    },
    {
     "name": "stderr",
     "output_type": "stream",
     "text": [
      "  4%|▍         | 60/1336 [02:00<42:18,  1.99s/it]"
     ]
    },
    {
     "name": "stdout",
     "output_type": "stream",
     "text": [
      "{'loss': 1.5299, 'grad_norm': 4.9501800537109375, 'learning_rate': 6e-06, 'epoch': 0.09}\n"
     ]
    },
    {
     "name": "stderr",
     "output_type": "stream",
     "text": [
      "  5%|▌         | 70/1336 [02:21<42:17,  2.00s/it]"
     ]
    },
    {
     "name": "stdout",
     "output_type": "stream",
     "text": [
      "{'loss': 1.4878, 'grad_norm': 4.886083126068115, 'learning_rate': 7.000000000000001e-06, 'epoch': 0.1}\n"
     ]
    },
    {
     "name": "stderr",
     "output_type": "stream",
     "text": [
      "  6%|▌         | 80/1336 [02:41<42:57,  2.05s/it]"
     ]
    },
    {
     "name": "stdout",
     "output_type": "stream",
     "text": [
      "{'loss': 1.4496, 'grad_norm': 4.996936798095703, 'learning_rate': 8.000000000000001e-06, 'epoch': 0.12}\n"
     ]
    },
    {
     "name": "stderr",
     "output_type": "stream",
     "text": [
      "  7%|▋         | 90/1336 [03:01<41:11,  1.98s/it]"
     ]
    },
    {
     "name": "stdout",
     "output_type": "stream",
     "text": [
      "{'loss': 1.391, 'grad_norm': 5.013386249542236, 'learning_rate': 9e-06, 'epoch': 0.13}\n"
     ]
    },
    {
     "name": "stderr",
     "output_type": "stream",
     "text": [
      "  7%|▋         | 100/1336 [03:21<41:27,  2.01s/it]"
     ]
    },
    {
     "name": "stdout",
     "output_type": "stream",
     "text": [
      "{'loss': 1.3284, 'grad_norm': 4.966161251068115, 'learning_rate': 1e-05, 'epoch': 0.15}\n"
     ]
    },
    {
     "name": "stderr",
     "output_type": "stream",
     "text": [
      "  8%|▊         | 110/1336 [03:41<39:34,  1.94s/it]"
     ]
    },
    {
     "name": "stdout",
     "output_type": "stream",
     "text": [
      "{'loss': 1.211, 'grad_norm': 5.209980010986328, 'learning_rate': 1.1000000000000001e-05, 'epoch': 0.16}\n"
     ]
    },
    {
     "name": "stderr",
     "output_type": "stream",
     "text": [
      "  9%|▉         | 120/1336 [04:01<40:26,  2.00s/it]"
     ]
    },
    {
     "name": "stdout",
     "output_type": "stream",
     "text": [
      "{'loss': 1.1755, 'grad_norm': 5.323472499847412, 'learning_rate': 1.2e-05, 'epoch': 0.18}\n"
     ]
    },
    {
     "name": "stderr",
     "output_type": "stream",
     "text": [
      " 10%|▉         | 130/1336 [04:21<40:11,  2.00s/it]"
     ]
    },
    {
     "name": "stdout",
     "output_type": "stream",
     "text": [
      "{'loss': 1.0784, 'grad_norm': 5.125816822052002, 'learning_rate': 1.3000000000000001e-05, 'epoch': 0.19}\n"
     ]
    },
    {
     "name": "stderr",
     "output_type": "stream",
     "text": [
      " 10%|█         | 140/1336 [04:41<41:41,  2.09s/it]"
     ]
    },
    {
     "name": "stdout",
     "output_type": "stream",
     "text": [
      "{'loss': 0.9456, 'grad_norm': 5.164208889007568, 'learning_rate': 1.4000000000000001e-05, 'epoch': 0.21}\n"
     ]
    },
    {
     "name": "stderr",
     "output_type": "stream",
     "text": [
      " 11%|█         | 150/1336 [05:01<39:27,  2.00s/it]"
     ]
    },
    {
     "name": "stdout",
     "output_type": "stream",
     "text": [
      "{'loss': 0.8252, 'grad_norm': 5.024830341339111, 'learning_rate': 1.5e-05, 'epoch': 0.22}\n"
     ]
    },
    {
     "name": "stderr",
     "output_type": "stream",
     "text": [
      " 12%|█▏        | 160/1336 [05:21<38:46,  1.98s/it]"
     ]
    },
    {
     "name": "stdout",
     "output_type": "stream",
     "text": [
      "{'loss': 0.7795, 'grad_norm': 5.60923433303833, 'learning_rate': 1.6000000000000003e-05, 'epoch': 0.24}\n"
     ]
    },
    {
     "name": "stderr",
     "output_type": "stream",
     "text": [
      " 13%|█▎        | 170/1336 [05:41<39:03,  2.01s/it]"
     ]
    },
    {
     "name": "stdout",
     "output_type": "stream",
     "text": [
      "{'loss': 0.6669, 'grad_norm': 4.881414890289307, 'learning_rate': 1.7000000000000003e-05, 'epoch': 0.25}\n"
     ]
    },
    {
     "name": "stderr",
     "output_type": "stream",
     "text": [
      " 13%|█▎        | 180/1336 [06:01<37:49,  1.96s/it]"
     ]
    },
    {
     "name": "stdout",
     "output_type": "stream",
     "text": [
      "{'loss': 0.5912, 'grad_norm': 4.509869575500488, 'learning_rate': 1.8e-05, 'epoch': 0.27}\n"
     ]
    },
    {
     "name": "stderr",
     "output_type": "stream",
     "text": [
      " 14%|█▍        | 190/1336 [06:22<42:09,  2.21s/it]"
     ]
    },
    {
     "name": "stdout",
     "output_type": "stream",
     "text": [
      "{'loss': 0.4862, 'grad_norm': 3.9333655834198, 'learning_rate': 1.9e-05, 'epoch': 0.28}\n"
     ]
    },
    {
     "name": "stderr",
     "output_type": "stream",
     "text": [
      " 15%|█▍        | 200/1336 [06:42<38:12,  2.02s/it]"
     ]
    },
    {
     "name": "stdout",
     "output_type": "stream",
     "text": [
      "{'loss': 0.4237, 'grad_norm': 4.184728622436523, 'learning_rate': 2e-05, 'epoch': 0.3}\n"
     ]
    },
    {
     "name": "stderr",
     "output_type": "stream",
     "text": [
      " 16%|█▌        | 210/1336 [07:03<38:08,  2.03s/it]"
     ]
    },
    {
     "name": "stdout",
     "output_type": "stream",
     "text": [
      "{'loss': 0.3665, 'grad_norm': 4.309677600860596, 'learning_rate': 2.1e-05, 'epoch': 0.31}\n"
     ]
    },
    {
     "name": "stderr",
     "output_type": "stream",
     "text": [
      " 16%|█▋        | 220/1336 [07:23<38:24,  2.06s/it]"
     ]
    },
    {
     "name": "stdout",
     "output_type": "stream",
     "text": [
      "{'loss': 0.322, 'grad_norm': 4.359551429748535, 'learning_rate': 2.2000000000000003e-05, 'epoch': 0.33}\n"
     ]
    },
    {
     "name": "stderr",
     "output_type": "stream",
     "text": [
      " 17%|█▋        | 230/1336 [07:43<36:26,  1.98s/it]"
     ]
    },
    {
     "name": "stdout",
     "output_type": "stream",
     "text": [
      "{'loss': 0.3236, 'grad_norm': 5.184726715087891, 'learning_rate': 2.3000000000000003e-05, 'epoch': 0.34}\n"
     ]
    },
    {
     "name": "stderr",
     "output_type": "stream",
     "text": [
      " 18%|█▊        | 240/1336 [08:03<36:30,  2.00s/it]"
     ]
    },
    {
     "name": "stdout",
     "output_type": "stream",
     "text": [
      "{'loss': 0.2677, 'grad_norm': 2.7118818759918213, 'learning_rate': 2.4e-05, 'epoch': 0.36}\n"
     ]
    },
    {
     "name": "stderr",
     "output_type": "stream",
     "text": [
      " 19%|█▊        | 250/1336 [08:23<36:18,  2.01s/it]"
     ]
    },
    {
     "name": "stdout",
     "output_type": "stream",
     "text": [
      "{'loss': 0.2754, 'grad_norm': 5.7620368003845215, 'learning_rate': 2.5e-05, 'epoch': 0.37}\n"
     ]
    },
    {
     "name": "stderr",
     "output_type": "stream",
     "text": [
      " 19%|█▉        | 260/1336 [08:43<36:10,  2.02s/it]"
     ]
    },
    {
     "name": "stdout",
     "output_type": "stream",
     "text": [
      "{'loss': 0.2473, 'grad_norm': 4.131642818450928, 'learning_rate': 2.6000000000000002e-05, 'epoch': 0.39}\n"
     ]
    },
    {
     "name": "stderr",
     "output_type": "stream",
     "text": [
      " 20%|██        | 270/1336 [09:05<38:48,  2.18s/it]"
     ]
    },
    {
     "name": "stdout",
     "output_type": "stream",
     "text": [
      "{'loss': 0.2179, 'grad_norm': 2.9357075691223145, 'learning_rate': 2.7000000000000002e-05, 'epoch': 0.4}\n"
     ]
    },
    {
     "name": "stderr",
     "output_type": "stream",
     "text": [
      " 21%|██        | 280/1336 [09:25<35:11,  2.00s/it]"
     ]
    },
    {
     "name": "stdout",
     "output_type": "stream",
     "text": [
      "{'loss': 0.2486, 'grad_norm': 4.413787841796875, 'learning_rate': 2.8000000000000003e-05, 'epoch': 0.42}\n"
     ]
    },
    {
     "name": "stderr",
     "output_type": "stream",
     "text": [
      " 22%|██▏       | 290/1336 [09:45<34:17,  1.97s/it]"
     ]
    },
    {
     "name": "stdout",
     "output_type": "stream",
     "text": [
      "{'loss': 0.312, 'grad_norm': 6.011092185974121, 'learning_rate': 2.9e-05, 'epoch': 0.43}\n"
     ]
    },
    {
     "name": "stderr",
     "output_type": "stream",
     "text": [
      " 22%|██▏       | 300/1336 [10:04<34:10,  1.98s/it]"
     ]
    },
    {
     "name": "stdout",
     "output_type": "stream",
     "text": [
      "{'loss': 0.1729, 'grad_norm': 6.2944488525390625, 'learning_rate': 3e-05, 'epoch': 0.45}\n"
     ]
    },
    {
     "name": "stderr",
     "output_type": "stream",
     "text": [
      " 23%|██▎       | 310/1336 [10:24<33:05,  1.93s/it]"
     ]
    },
    {
     "name": "stdout",
     "output_type": "stream",
     "text": [
      "{'loss': 0.2062, 'grad_norm': 1.9213930368423462, 'learning_rate': 3.1e-05, 'epoch': 0.46}\n"
     ]
    },
    {
     "name": "stderr",
     "output_type": "stream",
     "text": [
      " 24%|██▍       | 320/1336 [10:44<33:40,  1.99s/it]"
     ]
    },
    {
     "name": "stdout",
     "output_type": "stream",
     "text": [
      "{'loss': 0.2548, 'grad_norm': 4.054350852966309, 'learning_rate': 3.2000000000000005e-05, 'epoch': 0.48}\n"
     ]
    },
    {
     "name": "stderr",
     "output_type": "stream",
     "text": [
      " 25%|██▍       | 330/1336 [11:03<32:32,  1.94s/it]"
     ]
    },
    {
     "name": "stdout",
     "output_type": "stream",
     "text": [
      "{'loss': 0.1902, 'grad_norm': 4.364256381988525, 'learning_rate': 3.3e-05, 'epoch': 0.49}\n"
     ]
    },
    {
     "name": "stderr",
     "output_type": "stream",
     "text": [
      " 25%|██▌       | 340/1336 [11:23<31:55,  1.92s/it]"
     ]
    },
    {
     "name": "stdout",
     "output_type": "stream",
     "text": [
      "{'loss': 0.301, 'grad_norm': 4.701596260070801, 'learning_rate': 3.4000000000000007e-05, 'epoch': 0.51}\n"
     ]
    },
    {
     "name": "stderr",
     "output_type": "stream",
     "text": [
      " 26%|██▌       | 350/1336 [11:42<32:15,  1.96s/it]"
     ]
    },
    {
     "name": "stdout",
     "output_type": "stream",
     "text": [
      "{'loss': 0.3183, 'grad_norm': 4.779381275177002, 'learning_rate': 3.5e-05, 'epoch': 0.52}\n"
     ]
    },
    {
     "name": "stderr",
     "output_type": "stream",
     "text": [
      " 27%|██▋       | 360/1336 [12:03<32:56,  2.02s/it]"
     ]
    },
    {
     "name": "stdout",
     "output_type": "stream",
     "text": [
      "{'loss': 0.2639, 'grad_norm': 3.8912546634674072, 'learning_rate': 3.6e-05, 'epoch': 0.54}\n"
     ]
    },
    {
     "name": "stderr",
     "output_type": "stream",
     "text": [
      " 28%|██▊       | 370/1336 [12:23<32:57,  2.05s/it]"
     ]
    },
    {
     "name": "stdout",
     "output_type": "stream",
     "text": [
      "{'loss': 0.2608, 'grad_norm': 6.6680498123168945, 'learning_rate': 3.7e-05, 'epoch': 0.55}\n"
     ]
    },
    {
     "name": "stderr",
     "output_type": "stream",
     "text": [
      " 28%|██▊       | 380/1336 [12:44<32:40,  2.05s/it]"
     ]
    },
    {
     "name": "stdout",
     "output_type": "stream",
     "text": [
      "{'loss': 0.2448, 'grad_norm': 5.372076511383057, 'learning_rate': 3.8e-05, 'epoch': 0.57}\n"
     ]
    },
    {
     "name": "stderr",
     "output_type": "stream",
     "text": [
      " 29%|██▉       | 390/1336 [13:03<31:13,  1.98s/it]"
     ]
    },
    {
     "name": "stdout",
     "output_type": "stream",
     "text": [
      "{'loss': 0.1716, 'grad_norm': 1.7114732265472412, 'learning_rate': 3.9000000000000006e-05, 'epoch': 0.58}\n"
     ]
    },
    {
     "name": "stderr",
     "output_type": "stream",
     "text": [
      " 30%|██▉       | 400/1336 [13:23<31:27,  2.02s/it]"
     ]
    },
    {
     "name": "stdout",
     "output_type": "stream",
     "text": [
      "{'loss': 0.179, 'grad_norm': 4.860316753387451, 'learning_rate': 4e-05, 'epoch': 0.6}\n"
     ]
    },
    {
     "name": "stderr",
     "output_type": "stream",
     "text": [
      " 31%|███       | 408/1336 [13:40<30:54,  2.00s/it]"
     ]
    }
   ],
   "source": [
    "trainer.train()"
   ]
  },
  {
   "cell_type": "markdown",
   "metadata": {},
   "source": []
  }
 ],
 "metadata": {
  "kernelspec": {
   "display_name": "venv",
   "language": "python",
   "name": "python3"
  },
  "language_info": {
   "codemirror_mode": {
    "name": "ipython",
    "version": 3
   },
   "file_extension": ".py",
   "mimetype": "text/x-python",
   "name": "python",
   "nbconvert_exporter": "python",
   "pygments_lexer": "ipython3",
   "version": "3.12.4"
  }
 },
 "nbformat": 4,
 "nbformat_minor": 2
}
